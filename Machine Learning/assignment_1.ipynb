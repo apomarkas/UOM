{
 "cells": [
  {
   "cell_type": "code",
   "execution_count": 1,
   "id": "2eddeaf5",
   "metadata": {
    "scrolled": true
   },
   "outputs": [
    {
     "name": "stdout",
     "output_type": "stream",
     "text": [
      "Data shapes: X:(4177, 7), y:(4177, 1)\n",
      "Αντικείμενα: 4177\n",
      "Μεταβλητές: 7\n",
      "Εύρος τιμών y :R= 28.0\n",
      "Μέσος μεταβλητών: [0.5239921  0.40788125 0.1395164  0.82874216 0.35936749 0.18059361\n",
      " 0.23883086]\n",
      "Τυπική αποκλίση μεταβλητών: [0.12007854 0.09922799 0.04182205 0.49033031 0.22193638 0.10960113\n",
      " 0.13918601]\n",
      "[0.01441885 0.00984619 0.00174908 0.24042382 0.04925576 0.01201241\n",
      " 0.01937274]\n",
      "Μέσος στόχου: 9.933684462532918\n",
      "Τυπική απόκλιση στόχου: 3.2237830658212117\n"
     ]
    }
   ],
   "source": [
    "import csv\n",
    "import numpy\n",
    "from IPython.display import display, Markdown\n",
    "X = []\n",
    "y = []\n",
    "with open('abalone.csv') as myfile:\n",
    "    data = csv.reader(myfile, delimiter=',')\n",
    "    #Στον πίνακα Χ δεν περιλαμβάνουμε την μεταβλητή sex επειδή δεν είναι αριθμητική\n",
    "    #Στον πίνακα y παίρνουμε την μεταβλητη Rings που είναι το target μας\n",
    "    for dataline in data:\n",
    "        y.append(dataline[8:])\n",
    "        X.append(dataline[1:8])\n",
    "        \n",
    "X = numpy.array(X)\n",
    "y = numpy.array(y)\n",
    "\n",
    "X = X.astype(float)\n",
    "y = y.astype(float)\n",
    "\n",
    "print(\"Data shapes: X:{}, y:{}\".format(numpy.shape(X), numpy.shape(y)) )\n",
    "shape =  numpy.shape(X)\n",
    "print(\"Αντικείμενα:\",shape[0])\n",
    "print(\"Μεταβλητές:\",shape[1])\n",
    "print(\"Εύρος τιμών y :R=\",numpy.max(y)-numpy.min(y))\n",
    "\n",
    "print(\"Μέσος μεταβλητών:\",X.mean(axis=0))\n",
    "print(\"Τυπική αποκλίση μεταβλητών:\",X.std(axis=0))  \n",
    "print (X.var(axis=0))\n",
    "print(\"Μέσος στόχου:\",numpy.mean(y))\n",
    "print(\"Τυπική απόκλιση στόχου:\",numpy.std(y))\n",
    "\n"
   ]
  },
  {
   "cell_type": "markdown",
   "id": "64daca64",
   "metadata": {},
   "source": [
    "**Επειδή οι τιμές των δεδομένων έχουν μέσο και τυπική αποκλίση κοντα στο 0 και 1 μάλλον η κανονικοποιήση δεν είναι απαραίτητη αλλά θα κάνουμε για να ελέγξουμε**"
   ]
  },
  {
   "cell_type": "code",
   "execution_count": 2,
   "id": "ee9fde23",
   "metadata": {},
   "outputs": [],
   "source": [
    "from sklearn.preprocessing import StandardScaler\n",
    "\n",
    "\n",
    "\n",
    "#Διαχωρισμος δεδομένων\n",
    "from sklearn.model_selection import train_test_split\n",
    "\n",
    "\n",
    "X_train, X_test, y_train, y_test = train_test_split(\n",
    "    X, y, test_size=0.1, random_state=0)\n",
    "\n",
    "\n",
    "#Κανονικοποιηση πινάκων\n",
    "scaler = StandardScaler()\n",
    "scaler.fit(X_train)\n",
    "\n",
    "X_train_scaled = scaler.transform(X_train)\n",
    "X_test_scaled = scaler.transform(X_test)\n",
    "\n",
    "\n",
    "\n"
   ]
  },
  {
   "cell_type": "code",
   "execution_count": 3,
   "id": "b1178a0b",
   "metadata": {},
   "outputs": [],
   "source": [
    "def success_rate(y_test_pred,y_test,N):\n",
    "    succeses=0\n",
    "   \n",
    "    for i in range(len(y_test_pred)):\n",
    "        \n",
    "        if numpy.less_equal(numpy.abs(y_test_pred[i]-y_test[i]),N):\n",
    "            succeses=succeses+1\n",
    "    return succeses/len(y_test_pred)*100\n",
    "        \n",
    "        \n",
    "    \n",
    "    \n",
    "    "
   ]
  },
  {
   "cell_type": "code",
   "execution_count": 4,
   "id": "e74691cf",
   "metadata": {
    "scrolled": false
   },
   "outputs": [
    {
     "data": {
      "text/markdown": [
       "### Αποτελέσματα παλινδρόμησης για κανονικοποιημένα δεδομένα :\n",
       "**Test set explained variance**: 0.54<br>**Success ratio**: 42.82%<br>**Coefficients from all data(W)**:[[-0.11023424  1.27841734  0.43275322  4.70895912 -4.54132045 -1.15485229\n",
       "   1.15646108]]"
      ],
      "text/plain": [
       "<IPython.core.display.Markdown object>"
      ]
     },
     "metadata": {},
     "output_type": "display_data"
    },
    {
     "data": {
      "text/markdown": [
       "### Αποτελέσματα παλινδρόμησης για αρχικά δεδομένα :\n",
       "**Test set explained variance**: 0.54<br>**Success ratio**: 42.82%<br>**Coefficients from all data(W)**:[[ -0.92025855  12.91880135  10.27163765   9.59385694 -20.42655793\n",
       "  -10.53794044   8.29607609]]"
      ],
      "text/plain": [
       "<IPython.core.display.Markdown object>"
      ]
     },
     "metadata": {},
     "output_type": "display_data"
    }
   ],
   "source": [
    "#Παλινδρόμηση για κανονικοποιημενα δεδομενα\n",
    "from sklearn.metrics import explained_variance_score\n",
    "from sklearn import  linear_model\n",
    "\n",
    "\n",
    "regr = linear_model.LinearRegression()\n",
    "regr.fit(X_train_scaled, y_train)\n",
    "y_test_pred_scaled = regr.predict(X_test_scaled)\n",
    "\n",
    "\n",
    "display(Markdown(\n",
    "    \"### Αποτελέσματα παλινδρόμησης για κανονικοποιημένα δεδομένα \"+ \":\\n\" +\n",
    "    \"**Test set explained variance**: {:.2f}\".format(explained_variance_score(y_test, y_test_pred_scaled))+\"<br>\"+\n",
    "    \"**Success ratio**: {:.2f}\".format(success_rate(y_test_pred_scaled,y_test,1))+\"%\"+\"<br>\"+\n",
    "    \"**Coefficients from all data(W)**:\" + str(regr.coef_)\n",
    "))\n",
    "\n",
    "\n",
    "\n",
    "\n",
    "\n",
    "regr = linear_model.LinearRegression()\n",
    "regr.fit(X_train, y_train)\n",
    "y_test_pred = regr.predict(X_test)\n",
    "\n",
    "\n",
    "\n",
    "display(Markdown(\n",
    "    \"### Αποτελέσματα παλινδρόμησης για αρχικά δεδομένα \"+ \":\\n\" +\n",
    "    \"**Test set explained variance**: {:.2f}\".format(explained_variance_score(y_test, y_test_pred))+\"<br>\"+\n",
    "    \"**Success ratio**: {:.2f}\".format(success_rate(y_test_pred,y_test,1))+\"%\"+\"<br>\"+\n",
    "    \"**Coefficients from all data(W)**:\" + str(regr.coef_)\n",
    "))\n",
    "\n",
    "\n",
    "\n",
    "\n"
   ]
  },
  {
   "cell_type": "code",
   "execution_count": 5,
   "id": "fb179f3e",
   "metadata": {},
   "outputs": [
    {
     "data": {
      "text/markdown": [
       "### Αποτελέσματα ridge regression με grid search για κανονικοποιημένα δεδομένα :\n",
       "**Cross-val explained variance**: 0.53<br>**Test set explained variance**: 0.54<br>**Success ratio**: 42.82%<br>**Coefficients from all data(W)**:[[-0.11007982  1.27822786  0.4327677   4.70594637 -4.5398994  -1.15414932\n",
       "   1.15746344]]"
      ],
      "text/plain": [
       "<IPython.core.display.Markdown object>"
      ]
     },
     "metadata": {},
     "output_type": "display_data"
    },
    {
     "data": {
      "text/markdown": [
       "### Αποτελέσματα ridge regression με grid search για αρχικά δεδομένα :\n",
       "**Cross-val explained variance**: 0.52<br>**Test set explained variance**: 0.53<br>**Success ratio**: 43.54%<br>**Coefficients from all data(W)**:[[  2.08464113   8.86057672   8.37715794   8.03320605 -18.65820307\n",
       "   -7.89447003   9.84185308]]"
      ],
      "text/plain": [
       "<IPython.core.display.Markdown object>"
      ]
     },
     "metadata": {},
     "output_type": "display_data"
    }
   ],
   "source": [
    "#Ridge regression με grid search\n",
    "from sklearn.model_selection import GridSearchCV\n",
    "params = { \n",
    "           'alpha': numpy.logspace(-6, 4, 20)\n",
    "         }\n",
    "\n",
    "regr  = linear_model.Ridge() \n",
    "grid = GridSearchCV(estimator=regr, cv = 10, param_grid=params) \n",
    "grid.fit(X_train_scaled, y_train) \n",
    "y_train_pred_scaled = grid.predict(X_train_scaled)\n",
    "y_test_pred_scaled = grid.predict(X_test_scaled)\n",
    "\n",
    "\n",
    "\n",
    "display(Markdown(\n",
    "    \"### Αποτελέσματα ridge regression με grid search για κανονικοποιημένα δεδομένα \"+ \":\\n\" +\n",
    "    \"**Cross-val explained variance**: {:.2f}\".format(explained_variance_score(y_train, y_train_pred_scaled)) + \"<br>\" +\n",
    "    \"**Test set explained variance**: {:.2f}\".format(explained_variance_score(y_test, y_test_pred_scaled))+\"<br>\"+\n",
    "    \"**Success ratio**: {:.2f}\".format(success_rate(y_test_pred_scaled,y_test,1))+\"%\"+\"<br>\"+\n",
    "    \"**Coefficients from all data(W)**:\" + str(grid.best_estimator_.coef_)\n",
    "))\n",
    "\n",
    "\n",
    "regr4 = linear_model.Ridge() \n",
    "grid = GridSearchCV(estimator=regr, cv = 10, param_grid=params) \n",
    "grid.fit(X_train, y_train) \n",
    "y_train_pred = grid.predict(X_train)\n",
    "y_test_pred = grid.predict(X_test)\n",
    "\n",
    "\n",
    "display(Markdown(\n",
    "    \"### Αποτελέσματα ridge regression με grid search για αρχικά δεδομένα \"+ \":\\n\" +\n",
    "    \"**Cross-val explained variance**: {:.2f}\".format(explained_variance_score(y_train, y_train_pred)) + \"<br>\" +\n",
    "    \"**Test set explained variance**: {:.2f}\".format(explained_variance_score(y_test, y_test_pred))+\"<br>\"+\n",
    "    \"**Success ratio**: {:.2f}\".format(success_rate(y_test_pred,y_test,1))+\"%\"+\"<br>\"+\n",
    "    \"**Coefficients from all data(W)**:\" + str(grid.best_estimator_.coef_)\n",
    "))\n"
   ]
  },
  {
   "cell_type": "code",
   "execution_count": 6,
   "id": "b33e3355",
   "metadata": {},
   "outputs": [
    {
     "data": {
      "text/markdown": [
       "### Αποτελέσματα ridge regression σε πολυωνυμο 2ου βαθμου:\n",
       "**Cross-val explained variance**: 0.45<br>**Test set explained variance**: 0.57<br>**Success ratio**: 46.89%"
      ],
      "text/plain": [
       "<IPython.core.display.Markdown object>"
      ]
     },
     "metadata": {},
     "output_type": "display_data"
    },
    {
     "data": {
      "text/markdown": [
       "### Αποτελέσματα ridge regression σε πολυωνυμο 2ου βαθμου με κανονικοποιημένα δεδομένα:\n",
       "**Cross-val explained variance**: 0.38<br>**Test set explained variance**: 0.57<br>**Success ratio**: 46.41%"
      ],
      "text/plain": [
       "<IPython.core.display.Markdown object>"
      ]
     },
     "metadata": {},
     "output_type": "display_data"
    }
   ],
   "source": [
    "from sklearn.preprocessing import PolynomialFeatures\n",
    "from sklearn.model_selection import cross_val_predict\n",
    "\n",
    "#Δημιουργία πολυωνύμου 2ου βαθμού\n",
    "polyModel = PolynomialFeatures(degree = 2)\n",
    "X_train_poly = polyModel.fit_transform(X_train)\n",
    "\n",
    "X_test_poly = polyModel.fit_transform(X_test)\n",
    "\n",
    "#Ridge regression στο πολυώνυμο\n",
    "regr  = linear_model.Ridge(alpha=0.001)\n",
    "y_train_pred = cross_val_predict(regr, X_train_poly, y_train, cv=10)\n",
    "regr.fit(X_train_poly, y_train)\n",
    "y_test_pred = regr.predict(X_test_poly)\n",
    "\n",
    "\n",
    "\n",
    "display(Markdown(\n",
    "    \"### Αποτελέσματα ridge regression σε πολυωνυμο 2ου βαθμου\"+ \":\\n\" +\n",
    "    \"**Cross-val explained variance**: {:.2f}\".format(explained_variance_score(y_train, y_train_pred)) + \"<br>\" +\n",
    "    \"**Test set explained variance**: {:.2f}\".format(explained_variance_score(y_test, y_test_pred))+\"<br>\"+\n",
    "    \"**Success ratio**: {:.2f}\".format(success_rate(y_test_pred,y_test,1))+\"%\"\n",
    "))\n",
    "\n",
    "#Δημιουργία πολυωνύμου 2ου βαθμού για κανονικοποιημένα δεδομένα\n",
    "polyModel = PolynomialFeatures(degree = 2)\n",
    "X_train_poly_scaled = polyModel.fit_transform(X_train_scaled)\n",
    "X_test_poly_scaled = polyModel.fit_transform(X_test_scaled)\n",
    "\n",
    "#Ridge regression στο πολυώνυμο\n",
    "regr  = linear_model.Ridge(alpha=0.001)\n",
    "y_train_pred_scaled = cross_val_predict(regr, X_train_poly_scaled, y_train, cv=10)\n",
    "regr.fit(X_train_poly_scaled, y_train)\n",
    "y_test_pred_scaled = regr.predict(X_test_poly_scaled)\n",
    "\n",
    "\n",
    "display(Markdown(\n",
    "    \"### Αποτελέσματα ridge regression σε πολυωνυμο 2ου βαθμου με κανονικοποιημένα δεδομένα\"+ \":\\n\" +\n",
    "    \"**Cross-val explained variance**: {:.2f}\".format(explained_variance_score(y_train, y_train_pred_scaled)) + \"<br>\" +\n",
    "    \"**Test set explained variance**: {:.2f}\".format(explained_variance_score(y_test, y_test_pred_scaled))+\"<br>\"+\n",
    "    \"**Success ratio**: {:.2f}\".format(success_rate(y_test_pred_scaled,y_test,1))+\"%\"\n",
    "))"
   ]
  },
  {
   "cell_type": "code",
   "execution_count": 7,
   "id": "fdf428ba",
   "metadata": {},
   "outputs": [
    {
     "data": {
      "text/markdown": [
       "**k-Nearest Neighbours Regression**: <br>**Best k**: 9.000<br>**Best weighting strategy**: distance<br>**Test set explained variance**: 0.56<br>**Success ratio**: 46.65%"
      ],
      "text/plain": [
       "<IPython.core.display.Markdown object>"
      ]
     },
     "metadata": {},
     "output_type": "display_data"
    }
   ],
   "source": [
    "from sklearn.neighbors import KNeighborsRegressor\n",
    "regr = KNeighborsRegressor()\n",
    "params = { \n",
    "           'n_neighbors': range(1,10),\n",
    "            'weights': ['uniform', 'distance']\n",
    "         }\n",
    "grid = GridSearchCV(estimator=regr, cv = 10, param_grid=params) \n",
    "grid.fit(X_train, y_train) \n",
    "\n",
    "y_test_pred = grid.predict(X_test)\n",
    "\n",
    "display(Markdown(\n",
    "    \"**k-Nearest Neighbours Regression**: <br>\" +\n",
    "    \"**Best k**: {:.3f}\".format(grid.best_params_['n_neighbors'])  + \"<br>\" +\n",
    "    \"**Best weighting strategy**: \" + grid.best_params_['weights']  + \"<br>\" +\n",
    "    \"**Test set explained variance**: {:.2f}\".format(explained_variance_score(y_test, y_test_pred))+ \"<br>\"+\n",
    "    \"**Success ratio**: {:.2f}\".format(success_rate(y_test_pred,y_test,1))+\"%\"\n",
    "))"
   ]
  },
  {
   "cell_type": "markdown",
   "id": "9d0cc5b5",
   "metadata": {},
   "source": [
    "**Η κανονικοποίηση όπως φαίνεται στα αποτελέσματα δεν βοήθησε τα μοντέλα** <br>\n",
    "**Η σχέση μεταξύ του μοντέλου και του στόχου φαίνεται να είναι 2ου βαθμού ή μεγαλύτερη αφού τα καλύτερα αποτελέσματα τα πήραμε με πολυωνυμική παλινδρόμηση**"
   ]
  },
  {
   "cell_type": "code",
   "execution_count": null,
   "id": "e30866e3",
   "metadata": {},
   "outputs": [],
   "source": []
  }
 ],
 "metadata": {
  "kernelspec": {
   "display_name": "Python 3 (ipykernel)",
   "language": "python",
   "name": "python3"
  },
  "language_info": {
   "codemirror_mode": {
    "name": "ipython",
    "version": 3
   },
   "file_extension": ".py",
   "mimetype": "text/x-python",
   "name": "python",
   "nbconvert_exporter": "python",
   "pygments_lexer": "ipython3",
   "version": "3.9.7"
  }
 },
 "nbformat": 4,
 "nbformat_minor": 5
}
