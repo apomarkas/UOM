{
 "cells": [
  {
   "cell_type": "code",
   "execution_count": 1,
   "id": "7bad4e92",
   "metadata": {},
   "outputs": [],
   "source": [
    "import csv\n",
    "import numpy\n",
    "from IPython.display import display, Markdown\n",
    "from sklearn.preprocessing import LabelEncoder\n",
    "from sklearn.preprocessing import MinMaxScaler\n",
    "from sklearn.pipeline import Pipeline, make_pipeline\n",
    "from sklearn.linear_model import LogisticRegression\n",
    "from sklearn.model_selection import GridSearchCV\n",
    "from sklearn.svm import SVC\n",
    "from sklearn.metrics import f1_score,precision_score,recall_score,classification_report\n",
    "from sklearn.ensemble import RandomForestClassifier,ExtraTreesClassifier"
   ]
  },
  {
   "cell_type": "code",
   "execution_count": 2,
   "id": "13c8a30c",
   "metadata": {},
   "outputs": [
    {
     "name": "stdout",
     "output_type": "stream",
     "text": [
      "X_train mean: [4.0201875 7.0289375 5.1173125 5.365875  3.500125  6.892625  7.5124375\n",
      " 4.6273125 5.170375  8.286625  6.47125   7.927125  3.04875   8.3439375\n",
      " 3.682     7.79625  ]\n",
      "X_test mean: [4.037   7.06175 5.14    5.39875 3.52875 6.9175  7.4525  4.63375 5.21175\n",
      " 8.26375 6.385   7.9365  3.0355  8.3185  3.73075 7.821  ]\n",
      "X_train variance: [ 3.64215496 10.91522512  4.01280028  5.11913548  4.80574998  4.11872061\n",
      "  5.44659531  7.35216653  5.68722236  6.17834611  6.98004844  4.29281423\n",
      "  5.48687344  2.4025195   6.611626    2.57073594]\n",
      "X_test variance: [ 3.732131   10.93593694  4.2399      5.09074844  4.76567344  4.04769375\n",
      "  5.24574375  7.03861094  5.58991194  6.24718594  6.684775    4.47246775\n",
      "  5.25473975  2.35055775  6.49925444  2.796959  ]\n",
      "X_train max value: [15. 15. 15. 15. 15. 15. 15. 15. 15. 15. 15. 15. 15. 15. 15. 15.]\n",
      "X_train min value: [0. 0. 0. 0. 0. 0. 0. 0. 0. 0. 0. 2. 0. 1. 0. 0.]\n",
      "X_test max value: [15. 15. 15. 15. 15. 15. 15. 15. 15. 15. 15. 15. 15. 15. 15. 15.]\n",
      "X_test min value: [0. 0. 0. 0. 0. 0. 0. 0. 0. 0. 0. 2. 0. 1. 0. 0.]\n"
     ]
    }
   ],
   "source": [
    "import csv\n",
    "import numpy\n",
    "from IPython.display import display, Markdown\n",
    "from sklearn.preprocessing import LabelEncoder\n",
    "from sklearn.preprocessing import MinMaxScaler\n",
    "X = []\n",
    "y = []\n",
    "with open('letter-recognition.csv') as myfile:\n",
    "    data = csv.reader(myfile, delimiter=',')\n",
    "    #Στον πίνακα Χ δεν περιλαμβάνουμε την μεταβλητή sex επειδή δεν είναι αριθμητική\n",
    "    #Στον πίνακα y παίρνουμε την μεταβλητη Rings που είναι το target μας\n",
    "    for dataline in data:\n",
    "        y.append(dataline[0])\n",
    "        X.append(dataline[1:17])\n",
    "    \n",
    "X = numpy.array(X)\n",
    "y = numpy.array(y)\n",
    "\n",
    "X = X.astype(float)\n",
    "le = LabelEncoder().fit(y)\n",
    "y = le.transform(y)\n",
    "\n",
    "X_train = []\n",
    "y_train = []\n",
    "X_test = []\n",
    "y_test = []\n",
    "#Χωρίζω το train και test set \n",
    "for i in range(len(X)):\n",
    "    if(i<16000):\n",
    "        X_train.append(X[i])\n",
    "        y_train.append(y[i])\n",
    "    else:\n",
    "        X_test.append(X[i])\n",
    "        y_test.append(y[i])\n",
    "        \n",
    "X_train = numpy.array(X_train)\n",
    "y_train = numpy.array(y_train)\n",
    "X_test = numpy.array(X_test)\n",
    "y_test = numpy.array(y_test)\n",
    "\n",
    "print(\"X_train mean:\",numpy.mean(X_train,0))\n",
    "print(\"X_test mean:\",numpy.mean(X_test,0))\n",
    "print(\"X_train variance:\",numpy.var(X_train,0))\n",
    "print(\"X_test variance:\",numpy.var(X_test,0))\n",
    "print(\"X_train max value:\",numpy.max(X_train,0))\n",
    "print(\"X_train min value:\",numpy.min(X_test,0))\n",
    "print(\"X_test max value:\",numpy.max(X_train,0))\n",
    "print(\"X_test min value:\",numpy.min(X_test,0))\n",
    "\n"
   ]
  },
  {
   "cell_type": "markdown",
   "id": "e9cf1931",
   "metadata": {},
   "source": [
    "**Logistic regression**"
   ]
  },
  {
   "cell_type": "code",
   "execution_count": 3,
   "id": "1a53cd00",
   "metadata": {
    "scrolled": true
   },
   "outputs": [
    {
     "name": "stdout",
     "output_type": "stream",
     "text": [
      "Fitting 5 folds for each of 6 candidates, totalling 30 fits\n",
      "[CV 1/5] END ......logisticregression__C=1000.0;, score=0.773 total time=  10.4s\n",
      "[CV 2/5] END ......logisticregression__C=1000.0;, score=0.768 total time=  10.2s\n",
      "[CV 3/5] END ......logisticregression__C=1000.0;, score=0.777 total time=   9.8s\n",
      "[CV 4/5] END ......logisticregression__C=1000.0;, score=0.762 total time=   9.6s\n",
      "[CV 5/5] END ......logisticregression__C=1000.0;, score=0.783 total time=   9.8s\n",
      "[CV 1/5] END .......logisticregression__C=100.0;, score=0.772 total time=   9.0s\n",
      "[CV 2/5] END .......logisticregression__C=100.0;, score=0.770 total time=   8.6s\n",
      "[CV 3/5] END .......logisticregression__C=100.0;, score=0.776 total time=   8.6s\n",
      "[CV 4/5] END .......logisticregression__C=100.0;, score=0.765 total time=   8.5s\n",
      "[CV 5/5] END .......logisticregression__C=100.0;, score=0.782 total time=   8.9s\n",
      "[CV 1/5] END ........logisticregression__C=10.0;, score=0.770 total time=   6.1s\n",
      "[CV 2/5] END ........logisticregression__C=10.0;, score=0.768 total time=   6.0s\n",
      "[CV 3/5] END ........logisticregression__C=10.0;, score=0.770 total time=   5.9s\n",
      "[CV 4/5] END ........logisticregression__C=10.0;, score=0.760 total time=   6.4s\n",
      "[CV 5/5] END ........logisticregression__C=10.0;, score=0.776 total time=   6.0s\n",
      "[CV 1/5] END .........logisticregression__C=1.0;, score=0.746 total time=   3.1s\n",
      "[CV 2/5] END .........logisticregression__C=1.0;, score=0.744 total time=   3.2s\n",
      "[CV 3/5] END .........logisticregression__C=1.0;, score=0.741 total time=   3.3s\n",
      "[CV 4/5] END .........logisticregression__C=1.0;, score=0.737 total time=   3.1s\n",
      "[CV 5/5] END .........logisticregression__C=1.0;, score=0.759 total time=   3.3s\n",
      "[CV 1/5] END .........logisticregression__C=0.1;, score=0.664 total time=   1.4s\n",
      "[CV 2/5] END .........logisticregression__C=0.1;, score=0.667 total time=   1.3s\n",
      "[CV 3/5] END .........logisticregression__C=0.1;, score=0.656 total time=   1.2s\n",
      "[CV 4/5] END .........logisticregression__C=0.1;, score=0.658 total time=   1.4s\n",
      "[CV 5/5] END .........logisticregression__C=0.1;, score=0.675 total time=   1.5s\n",
      "[CV 1/5] END ........logisticregression__C=0.01;, score=0.498 total time=   0.4s\n",
      "[CV 2/5] END ........logisticregression__C=0.01;, score=0.517 total time=   0.5s\n",
      "[CV 3/5] END ........logisticregression__C=0.01;, score=0.501 total time=   0.4s\n",
      "[CV 4/5] END ........logisticregression__C=0.01;, score=0.499 total time=   0.4s\n",
      "[CV 5/5] END ........logisticregression__C=0.01;, score=0.511 total time=   0.4s\n"
     ]
    },
    {
     "data": {
      "text/markdown": [
       "### Logistic regression results :\n",
       "**Best λ**: 100.00<br>**Best grid score**: 0.77<br>**F1 score**: 0.77<br>**Precision score**: 0.77<br>**Recall score**: 0.77"
      ],
      "text/plain": [
       "<IPython.core.display.Markdown object>"
      ]
     },
     "metadata": {},
     "output_type": "display_data"
    }
   ],
   "source": [
    "\n",
    "log_reg_params = { \n",
    "           'logisticregression__C': numpy.logspace(3, -2, 6)\n",
    "            \n",
    "         }\n",
    "\n",
    "\n",
    "log_reg_pipe = make_pipeline(MinMaxScaler(),LogisticRegression(max_iter=1000))\n",
    "grid = GridSearchCV(estimator=log_reg_pipe,param_grid=log_reg_params,verbose=4)\n",
    "grid.fit(X_train,y_train)\n",
    "logpred = grid.predict(X_test)\n",
    "\n",
    "display(Markdown(\n",
    "    \"### Logistic regression results \"+ \":\\n\" +\n",
    "    \"**Best λ**: {:.2f}\".format(grid.best_params_['logisticregression__C'])+\"<br>\"+\n",
    "    \"**Best grid score**: {:.2f}\".format(grid.best_score_)+\"<br>\"+\n",
    "    \"**F1 score**: {:.2f}\".format(f1_score(y_test,logpred,average='weighted'))+\"<br>\"+\n",
    "    \"**Precision score**: {:.2f}\".format(precision_score(y_test,logpred,average='weighted'))+\"<br>\"+\n",
    "    \"**Recall score**: {:.2f}\".format(recall_score(y_test,logpred,average='weighted'))\n",
    "    \n",
    "))\n"
   ]
  },
  {
   "cell_type": "markdown",
   "id": "fb2ece83",
   "metadata": {},
   "source": [
    "***Linear SVM***"
   ]
  },
  {
   "cell_type": "code",
   "execution_count": 4,
   "id": "c1df6726",
   "metadata": {},
   "outputs": [
    {
     "name": "stdout",
     "output_type": "stream",
     "text": [
      "Fitting 5 folds for each of 4 candidates, totalling 20 fits\n",
      "[CV 1/5] END .....................svc__C=1000.0;, score=0.859 total time=   6.4s\n",
      "[CV 2/5] END .....................svc__C=1000.0;, score=0.847 total time=   6.3s\n",
      "[CV 3/5] END .....................svc__C=1000.0;, score=0.851 total time=   6.3s\n",
      "[CV 4/5] END .....................svc__C=1000.0;, score=0.841 total time=   6.3s\n",
      "[CV 5/5] END .....................svc__C=1000.0;, score=0.858 total time=   6.3s\n",
      "[CV 1/5] END ......................svc__C=100.0;, score=0.856 total time=   3.0s\n",
      "[CV 2/5] END ......................svc__C=100.0;, score=0.848 total time=   2.8s\n",
      "[CV 3/5] END ......................svc__C=100.0;, score=0.849 total time=   2.9s\n",
      "[CV 4/5] END ......................svc__C=100.0;, score=0.839 total time=   2.7s\n",
      "[CV 5/5] END ......................svc__C=100.0;, score=0.860 total time=   2.8s\n",
      "[CV 1/5] END .......................svc__C=10.0;, score=0.853 total time=   2.5s\n",
      "[CV 2/5] END .......................svc__C=10.0;, score=0.843 total time=   2.4s\n",
      "[CV 3/5] END .......................svc__C=10.0;, score=0.846 total time=   2.5s\n",
      "[CV 4/5] END .......................svc__C=10.0;, score=0.835 total time=   2.5s\n",
      "[CV 5/5] END .......................svc__C=10.0;, score=0.852 total time=   2.5s\n",
      "[CV 1/5] END ........................svc__C=1.0;, score=0.823 total time=   3.2s\n",
      "[CV 2/5] END ........................svc__C=1.0;, score=0.821 total time=   3.2s\n",
      "[CV 3/5] END ........................svc__C=1.0;, score=0.809 total time=   3.2s\n",
      "[CV 4/5] END ........................svc__C=1.0;, score=0.802 total time=   3.2s\n",
      "[CV 5/5] END ........................svc__C=1.0;, score=0.824 total time=   3.4s\n"
     ]
    },
    {
     "data": {
      "text/markdown": [
       "### Linear SVM results :\n",
       "**Best C**: 1000.00<br>**Best grid score**: 0.85<br>**F1 score**: 0.83<br>**Precision score**: 0.84<br>**Recall score**: 0.83"
      ],
      "text/plain": [
       "<IPython.core.display.Markdown object>"
      ]
     },
     "metadata": {},
     "output_type": "display_data"
    }
   ],
   "source": [
    "SVM_params = {\n",
    "        'svc__C':numpy.logspace(3,0,4)\n",
    "}\n",
    "\n",
    "svmpipe = make_pipeline(MinMaxScaler(),SVC(kernel = 'linear'))\n",
    "grid = GridSearchCV(estimator=svmpipe,param_grid=SVM_params,verbose=4)\n",
    "grid.fit(X_train,y_train)\n",
    "svmpred = grid.predict(X_test)\n",
    "linearsvm_vectors=grid.best_estimator_.named_steps['svc'].n_support_#κρατάω τα διανύσματα για κάθε κλάση για το ερώτημα 5\n",
    "display(Markdown(\n",
    "\"### Linear SVM results \"+ \":\\n\" +\n",
    "    \"**Best C**: {:.2f}\".format(grid.best_params_['svc__C'])+\"<br>\"+\n",
    "    \"**Best grid score**: {:.2f}\".format(grid.best_score_)+\"<br>\"+\n",
    "    \"**F1 score**: {:.2f}\".format(f1_score(y_test,svmpred,average='weighted'))+\"<br>\"+\n",
    "    \"**Precision score**: {:.2f}\".format(precision_score(y_test,svmpred,average='weighted'))+\"<br>\"+\n",
    "    \"**Recall score**: {:.2f}\".format(recall_score(y_test,svmpred,average='weighted'))\n",
    "    \n",
    "))"
   ]
  },
  {
   "cell_type": "markdown",
   "id": "04924975",
   "metadata": {},
   "source": [
    "***K-Nearest Neighbors***\n"
   ]
  },
  {
   "cell_type": "code",
   "execution_count": 5,
   "id": "015e56f4",
   "metadata": {},
   "outputs": [
    {
     "name": "stdout",
     "output_type": "stream",
     "text": [
      "Fitting 5 folds for each of 14 candidates, totalling 70 fits\n",
      "[CV 1/5] END kneighborsclassifier__n_neighbors=1, kneighborsclassifier__weights=uniform;, score=0.949 total time=   0.4s\n",
      "[CV 2/5] END kneighborsclassifier__n_neighbors=1, kneighborsclassifier__weights=uniform;, score=0.947 total time=   0.5s\n",
      "[CV 3/5] END kneighborsclassifier__n_neighbors=1, kneighborsclassifier__weights=uniform;, score=0.953 total time=   0.5s\n",
      "[CV 4/5] END kneighborsclassifier__n_neighbors=1, kneighborsclassifier__weights=uniform;, score=0.949 total time=   0.5s\n",
      "[CV 5/5] END kneighborsclassifier__n_neighbors=1, kneighborsclassifier__weights=uniform;, score=0.953 total time=   0.5s\n",
      "[CV 1/5] END kneighborsclassifier__n_neighbors=1, kneighborsclassifier__weights=distance;, score=0.949 total time=   0.5s\n",
      "[CV 2/5] END kneighborsclassifier__n_neighbors=1, kneighborsclassifier__weights=distance;, score=0.947 total time=   0.4s\n",
      "[CV 3/5] END kneighborsclassifier__n_neighbors=1, kneighborsclassifier__weights=distance;, score=0.953 total time=   0.5s\n",
      "[CV 4/5] END kneighborsclassifier__n_neighbors=1, kneighborsclassifier__weights=distance;, score=0.949 total time=   0.4s\n",
      "[CV 5/5] END kneighborsclassifier__n_neighbors=1, kneighborsclassifier__weights=distance;, score=0.953 total time=   0.4s\n",
      "[CV 1/5] END kneighborsclassifier__n_neighbors=2, kneighborsclassifier__weights=uniform;, score=0.933 total time=   0.6s\n",
      "[CV 2/5] END kneighborsclassifier__n_neighbors=2, kneighborsclassifier__weights=uniform;, score=0.933 total time=   0.5s\n",
      "[CV 3/5] END kneighborsclassifier__n_neighbors=2, kneighborsclassifier__weights=uniform;, score=0.934 total time=   0.5s\n",
      "[CV 4/5] END kneighborsclassifier__n_neighbors=2, kneighborsclassifier__weights=uniform;, score=0.929 total time=   0.5s\n",
      "[CV 5/5] END kneighborsclassifier__n_neighbors=2, kneighborsclassifier__weights=uniform;, score=0.941 total time=   0.6s\n",
      "[CV 1/5] END kneighborsclassifier__n_neighbors=2, kneighborsclassifier__weights=distance;, score=0.949 total time=   0.5s\n",
      "[CV 2/5] END kneighborsclassifier__n_neighbors=2, kneighborsclassifier__weights=distance;, score=0.947 total time=   0.5s\n",
      "[CV 3/5] END kneighborsclassifier__n_neighbors=2, kneighborsclassifier__weights=distance;, score=0.953 total time=   0.5s\n",
      "[CV 4/5] END kneighborsclassifier__n_neighbors=2, kneighborsclassifier__weights=distance;, score=0.948 total time=   0.5s\n",
      "[CV 5/5] END kneighborsclassifier__n_neighbors=2, kneighborsclassifier__weights=distance;, score=0.953 total time=   0.5s\n",
      "[CV 1/5] END kneighborsclassifier__n_neighbors=3, kneighborsclassifier__weights=uniform;, score=0.945 total time=   0.5s\n",
      "[CV 2/5] END kneighborsclassifier__n_neighbors=3, kneighborsclassifier__weights=uniform;, score=0.946 total time=   0.5s\n",
      "[CV 3/5] END kneighborsclassifier__n_neighbors=3, kneighborsclassifier__weights=uniform;, score=0.944 total time=   0.6s\n",
      "[CV 4/5] END kneighborsclassifier__n_neighbors=3, kneighborsclassifier__weights=uniform;, score=0.935 total time=   0.7s\n",
      "[CV 5/5] END kneighborsclassifier__n_neighbors=3, kneighborsclassifier__weights=uniform;, score=0.946 total time=   0.6s\n",
      "[CV 1/5] END kneighborsclassifier__n_neighbors=3, kneighborsclassifier__weights=distance;, score=0.953 total time=   0.5s\n",
      "[CV 2/5] END kneighborsclassifier__n_neighbors=3, kneighborsclassifier__weights=distance;, score=0.951 total time=   0.6s\n",
      "[CV 3/5] END kneighborsclassifier__n_neighbors=3, kneighborsclassifier__weights=distance;, score=0.953 total time=   0.5s\n",
      "[CV 4/5] END kneighborsclassifier__n_neighbors=3, kneighborsclassifier__weights=distance;, score=0.943 total time=   0.5s\n",
      "[CV 5/5] END kneighborsclassifier__n_neighbors=3, kneighborsclassifier__weights=distance;, score=0.950 total time=   0.5s\n",
      "[CV 1/5] END kneighborsclassifier__n_neighbors=4, kneighborsclassifier__weights=uniform;, score=0.940 total time=   0.8s\n",
      "[CV 2/5] END kneighborsclassifier__n_neighbors=4, kneighborsclassifier__weights=uniform;, score=0.941 total time=   0.8s\n",
      "[CV 3/5] END kneighborsclassifier__n_neighbors=4, kneighborsclassifier__weights=uniform;, score=0.939 total time=   0.8s\n",
      "[CV 4/5] END kneighborsclassifier__n_neighbors=4, kneighborsclassifier__weights=uniform;, score=0.936 total time=   0.8s\n",
      "[CV 5/5] END kneighborsclassifier__n_neighbors=4, kneighborsclassifier__weights=uniform;, score=0.943 total time=   0.8s\n",
      "[CV 1/5] END kneighborsclassifier__n_neighbors=4, kneighborsclassifier__weights=distance;, score=0.953 total time=   0.7s\n",
      "[CV 2/5] END kneighborsclassifier__n_neighbors=4, kneighborsclassifier__weights=distance;, score=0.953 total time=   0.7s\n",
      "[CV 3/5] END kneighborsclassifier__n_neighbors=4, kneighborsclassifier__weights=distance;, score=0.953 total time=   0.7s\n",
      "[CV 4/5] END kneighborsclassifier__n_neighbors=4, kneighborsclassifier__weights=distance;, score=0.943 total time=   0.7s\n",
      "[CV 5/5] END kneighborsclassifier__n_neighbors=4, kneighborsclassifier__weights=distance;, score=0.952 total time=   0.8s\n",
      "[CV 1/5] END kneighborsclassifier__n_neighbors=5, kneighborsclassifier__weights=uniform;, score=0.941 total time=   0.8s\n",
      "[CV 2/5] END kneighborsclassifier__n_neighbors=5, kneighborsclassifier__weights=uniform;, score=0.945 total time=   0.8s\n",
      "[CV 3/5] END kneighborsclassifier__n_neighbors=5, kneighborsclassifier__weights=uniform;, score=0.942 total time=   0.8s\n",
      "[CV 4/5] END kneighborsclassifier__n_neighbors=5, kneighborsclassifier__weights=uniform;, score=0.937 total time=   0.8s\n",
      "[CV 5/5] END kneighborsclassifier__n_neighbors=5, kneighborsclassifier__weights=uniform;, score=0.942 total time=   0.8s\n",
      "[CV 1/5] END kneighborsclassifier__n_neighbors=5, kneighborsclassifier__weights=distance;, score=0.950 total time=   0.7s\n",
      "[CV 2/5] END kneighborsclassifier__n_neighbors=5, kneighborsclassifier__weights=distance;, score=0.953 total time=   0.7s\n",
      "[CV 3/5] END kneighborsclassifier__n_neighbors=5, kneighborsclassifier__weights=distance;, score=0.950 total time=   0.7s\n",
      "[CV 4/5] END kneighborsclassifier__n_neighbors=5, kneighborsclassifier__weights=distance;, score=0.941 total time=   0.7s\n",
      "[CV 5/5] END kneighborsclassifier__n_neighbors=5, kneighborsclassifier__weights=distance;, score=0.948 total time=   0.8s\n",
      "[CV 1/5] END kneighborsclassifier__n_neighbors=6, kneighborsclassifier__weights=uniform;, score=0.937 total time=   0.8s\n",
      "[CV 2/5] END kneighborsclassifier__n_neighbors=6, kneighborsclassifier__weights=uniform;, score=0.942 total time=   0.8s\n",
      "[CV 3/5] END kneighborsclassifier__n_neighbors=6, kneighborsclassifier__weights=uniform;, score=0.938 total time=   0.8s\n",
      "[CV 4/5] END kneighborsclassifier__n_neighbors=6, kneighborsclassifier__weights=uniform;, score=0.937 total time=   0.8s\n",
      "[CV 5/5] END kneighborsclassifier__n_neighbors=6, kneighborsclassifier__weights=uniform;, score=0.938 total time=   0.8s\n",
      "[CV 1/5] END kneighborsclassifier__n_neighbors=6, kneighborsclassifier__weights=distance;, score=0.950 total time=   0.7s\n",
      "[CV 2/5] END kneighborsclassifier__n_neighbors=6, kneighborsclassifier__weights=distance;, score=0.950 total time=   0.7s\n",
      "[CV 3/5] END kneighborsclassifier__n_neighbors=6, kneighborsclassifier__weights=distance;, score=0.948 total time=   0.7s\n",
      "[CV 4/5] END kneighborsclassifier__n_neighbors=6, kneighborsclassifier__weights=distance;, score=0.943 total time=   0.8s\n",
      "[CV 5/5] END kneighborsclassifier__n_neighbors=6, kneighborsclassifier__weights=distance;, score=0.946 total time=   0.8s\n",
      "[CV 1/5] END kneighborsclassifier__n_neighbors=7, kneighborsclassifier__weights=uniform;, score=0.937 total time=   0.8s\n",
      "[CV 2/5] END kneighborsclassifier__n_neighbors=7, kneighborsclassifier__weights=uniform;, score=0.940 total time=   0.8s\n",
      "[CV 3/5] END kneighborsclassifier__n_neighbors=7, kneighborsclassifier__weights=uniform;, score=0.937 total time=   0.8s\n",
      "[CV 4/5] END kneighborsclassifier__n_neighbors=7, kneighborsclassifier__weights=uniform;, score=0.935 total time=   0.8s\n",
      "[CV 5/5] END kneighborsclassifier__n_neighbors=7, kneighborsclassifier__weights=uniform;, score=0.938 total time=   0.8s\n",
      "[CV 1/5] END kneighborsclassifier__n_neighbors=7, kneighborsclassifier__weights=distance;, score=0.946 total time=   0.7s\n",
      "[CV 2/5] END kneighborsclassifier__n_neighbors=7, kneighborsclassifier__weights=distance;, score=0.950 total time=   0.7s\n"
     ]
    },
    {
     "name": "stdout",
     "output_type": "stream",
     "text": [
      "[CV 3/5] END kneighborsclassifier__n_neighbors=7, kneighborsclassifier__weights=distance;, score=0.944 total time=   0.8s\n",
      "[CV 4/5] END kneighborsclassifier__n_neighbors=7, kneighborsclassifier__weights=distance;, score=0.943 total time=   0.8s\n",
      "[CV 5/5] END kneighborsclassifier__n_neighbors=7, kneighborsclassifier__weights=distance;, score=0.945 total time=   0.7s\n"
     ]
    },
    {
     "data": {
      "text/markdown": [
       "### k-nearest  results :\n",
       "**Best k**: 4.00<br>**Best weight**:distance<br>**Best grid score**: 0.95<br>**F1 score**: 0.96<br>**Precision score**: 0.96<br>**Recall score**: 0.96"
      ],
      "text/plain": [
       "<IPython.core.display.Markdown object>"
      ]
     },
     "metadata": {},
     "output_type": "display_data"
    }
   ],
   "source": [
    "from sklearn.neighbors import KNeighborsClassifier\n",
    "\n",
    "\n",
    "kN_params = {\n",
    "    'kneighborsclassifier__n_neighbors':   range(1,8),\n",
    "    'kneighborsclassifier__weights':   ['uniform', 'distance']\n",
    "    \n",
    "}\n",
    " \n",
    "\n",
    "kN_pipe = make_pipeline(MinMaxScaler(),KNeighborsClassifier())\n",
    "grid = GridSearchCV(estimator=kN_pipe,param_grid=kN_params,verbose=4)\n",
    "grid.fit(X_train,y_train)\n",
    "knpred = grid.predict(X_test)\n",
    "\n",
    "\n",
    "display(Markdown(\n",
    "\"### k-nearest  results \"+ \":\\n\" +\n",
    "    \"**Best k**: {:.2f}\".format(grid.best_params_['kneighborsclassifier__n_neighbors'])+\"<br>\"+\n",
    "    \"**Best weight**:\"+grid.best_params_['kneighborsclassifier__weights']+\"<br>\"+\n",
    "    \"**Best grid score**: {:.2f}\".format(grid.best_score_)+\"<br>\"+\n",
    "    \"**F1 score**: {:.2f}\".format(f1_score(y_test,knpred,average='weighted'))+\"<br>\"+\n",
    "    \"**Precision score**: {:.2f}\".format(precision_score(y_test,knpred,average='weighted'))+\"<br>\"+\n",
    "    \"**Recall score**: {:.2f}\".format(recall_score(y_test,knpred,average='weighted'))\n",
    "    \n",
    "))"
   ]
  },
  {
   "cell_type": "markdown",
   "id": "c6296226",
   "metadata": {},
   "source": [
    "***RBF SVM***"
   ]
  },
  {
   "cell_type": "code",
   "execution_count": 6,
   "id": "db2e38ba",
   "metadata": {},
   "outputs": [
    {
     "name": "stdout",
     "output_type": "stream",
     "text": [
      "Fitting 5 folds for each of 24 candidates, totalling 120 fits\n",
      "[CV 1/5] END ....svc__C=1000.0, svc__gamma=10.0;, score=0.976 total time=   7.4s\n",
      "[CV 2/5] END ....svc__C=1000.0, svc__gamma=10.0;, score=0.974 total time=   7.4s\n",
      "[CV 3/5] END ....svc__C=1000.0, svc__gamma=10.0;, score=0.978 total time=   7.3s\n",
      "[CV 4/5] END ....svc__C=1000.0, svc__gamma=10.0;, score=0.968 total time=   7.2s\n",
      "[CV 5/5] END ....svc__C=1000.0, svc__gamma=10.0;, score=0.973 total time=   7.3s\n",
      "[CV 1/5] END svc__C=1000.0, svc__gamma=3.9810717055349722;, score=0.971 total time=   4.5s\n",
      "[CV 2/5] END svc__C=1000.0, svc__gamma=3.9810717055349722;, score=0.971 total time=   4.8s\n",
      "[CV 3/5] END svc__C=1000.0, svc__gamma=3.9810717055349722;, score=0.975 total time=   4.5s\n",
      "[CV 4/5] END svc__C=1000.0, svc__gamma=3.9810717055349722;, score=0.964 total time=   4.6s\n",
      "[CV 5/5] END svc__C=1000.0, svc__gamma=3.9810717055349722;, score=0.966 total time=   4.5s\n",
      "[CV 1/5] END svc__C=1000.0, svc__gamma=1.5848931924611134;, score=0.965 total time=   3.7s\n",
      "[CV 2/5] END svc__C=1000.0, svc__gamma=1.5848931924611134;, score=0.966 total time=   3.5s\n",
      "[CV 3/5] END svc__C=1000.0, svc__gamma=1.5848931924611134;, score=0.966 total time=   3.6s\n",
      "[CV 4/5] END svc__C=1000.0, svc__gamma=1.5848931924611134;, score=0.958 total time=   3.7s\n",
      "[CV 5/5] END svc__C=1000.0, svc__gamma=1.5848931924611134;, score=0.957 total time=   3.6s\n",
      "[CV 1/5] END svc__C=1000.0, svc__gamma=0.630957344480193;, score=0.958 total time=   3.6s\n",
      "[CV 2/5] END svc__C=1000.0, svc__gamma=0.630957344480193;, score=0.959 total time=   3.6s\n",
      "[CV 3/5] END svc__C=1000.0, svc__gamma=0.630957344480193;, score=0.957 total time=   3.5s\n",
      "[CV 4/5] END svc__C=1000.0, svc__gamma=0.630957344480193;, score=0.951 total time=   3.6s\n",
      "[CV 5/5] END svc__C=1000.0, svc__gamma=0.630957344480193;, score=0.950 total time=   3.5s\n",
      "[CV 1/5] END svc__C=1000.0, svc__gamma=0.25118864315095796;, score=0.950 total time=   3.7s\n",
      "[CV 2/5] END svc__C=1000.0, svc__gamma=0.25118864315095796;, score=0.953 total time=   3.7s\n",
      "[CV 3/5] END svc__C=1000.0, svc__gamma=0.25118864315095796;, score=0.955 total time=   3.7s\n",
      "[CV 4/5] END svc__C=1000.0, svc__gamma=0.25118864315095796;, score=0.943 total time=   3.7s\n",
      "[CV 5/5] END svc__C=1000.0, svc__gamma=0.25118864315095796;, score=0.947 total time=   3.7s\n",
      "[CV 1/5] END .....svc__C=1000.0, svc__gamma=0.1;, score=0.941 total time=   3.9s\n",
      "[CV 2/5] END .....svc__C=1000.0, svc__gamma=0.1;, score=0.943 total time=   3.9s\n",
      "[CV 3/5] END .....svc__C=1000.0, svc__gamma=0.1;, score=0.935 total time=   3.9s\n",
      "[CV 4/5] END .....svc__C=1000.0, svc__gamma=0.1;, score=0.927 total time=   3.9s\n",
      "[CV 5/5] END .....svc__C=1000.0, svc__gamma=0.1;, score=0.932 total time=   3.9s\n",
      "[CV 1/5] END .....svc__C=100.0, svc__gamma=10.0;, score=0.976 total time=   7.3s\n",
      "[CV 2/5] END .....svc__C=100.0, svc__gamma=10.0;, score=0.974 total time=   7.1s\n",
      "[CV 3/5] END .....svc__C=100.0, svc__gamma=10.0;, score=0.978 total time=   7.3s\n",
      "[CV 4/5] END .....svc__C=100.0, svc__gamma=10.0;, score=0.968 total time=   7.2s\n",
      "[CV 5/5] END .....svc__C=100.0, svc__gamma=10.0;, score=0.973 total time=   7.4s\n",
      "[CV 1/5] END svc__C=100.0, svc__gamma=3.9810717055349722;, score=0.972 total time=   4.7s\n",
      "[CV 2/5] END svc__C=100.0, svc__gamma=3.9810717055349722;, score=0.972 total time=   4.8s\n",
      "[CV 3/5] END svc__C=100.0, svc__gamma=3.9810717055349722;, score=0.976 total time=   4.4s\n",
      "[CV 4/5] END svc__C=100.0, svc__gamma=3.9810717055349722;, score=0.965 total time=   4.8s\n",
      "[CV 5/5] END svc__C=100.0, svc__gamma=3.9810717055349722;, score=0.966 total time=   4.6s\n",
      "[CV 1/5] END svc__C=100.0, svc__gamma=1.5848931924611134;, score=0.965 total time=   3.5s\n",
      "[CV 2/5] END svc__C=100.0, svc__gamma=1.5848931924611134;, score=0.968 total time=   3.6s\n",
      "[CV 3/5] END svc__C=100.0, svc__gamma=1.5848931924611134;, score=0.967 total time=   3.5s\n",
      "[CV 4/5] END svc__C=100.0, svc__gamma=1.5848931924611134;, score=0.959 total time=   3.5s\n",
      "[CV 5/5] END svc__C=100.0, svc__gamma=1.5848931924611134;, score=0.959 total time=   3.5s\n",
      "[CV 1/5] END svc__C=100.0, svc__gamma=0.630957344480193;, score=0.958 total time=   3.4s\n",
      "[CV 2/5] END svc__C=100.0, svc__gamma=0.630957344480193;, score=0.963 total time=   3.4s\n",
      "[CV 3/5] END svc__C=100.0, svc__gamma=0.630957344480193;, score=0.960 total time=   3.4s\n",
      "[CV 4/5] END svc__C=100.0, svc__gamma=0.630957344480193;, score=0.950 total time=   3.5s\n",
      "[CV 5/5] END svc__C=100.0, svc__gamma=0.630957344480193;, score=0.954 total time=   3.4s\n",
      "[CV 1/5] END svc__C=100.0, svc__gamma=0.25118864315095796;, score=0.942 total time=   3.6s\n",
      "[CV 2/5] END svc__C=100.0, svc__gamma=0.25118864315095796;, score=0.939 total time=   3.7s\n",
      "[CV 3/5] END svc__C=100.0, svc__gamma=0.25118864315095796;, score=0.938 total time=   3.6s\n",
      "[CV 4/5] END svc__C=100.0, svc__gamma=0.25118864315095796;, score=0.925 total time=   3.7s\n",
      "[CV 5/5] END svc__C=100.0, svc__gamma=0.25118864315095796;, score=0.932 total time=   3.7s\n",
      "[CV 1/5] END ......svc__C=100.0, svc__gamma=0.1;, score=0.905 total time=   4.1s\n",
      "[CV 2/5] END ......svc__C=100.0, svc__gamma=0.1;, score=0.901 total time=   4.0s\n",
      "[CV 3/5] END ......svc__C=100.0, svc__gamma=0.1;, score=0.896 total time=   4.2s\n",
      "[CV 4/5] END ......svc__C=100.0, svc__gamma=0.1;, score=0.883 total time=   4.1s\n",
      "[CV 5/5] END ......svc__C=100.0, svc__gamma=0.1;, score=0.901 total time=   4.1s\n",
      "[CV 1/5] END ......svc__C=10.0, svc__gamma=10.0;, score=0.976 total time=   7.2s\n",
      "[CV 2/5] END ......svc__C=10.0, svc__gamma=10.0;, score=0.974 total time=   7.3s\n",
      "[CV 3/5] END ......svc__C=10.0, svc__gamma=10.0;, score=0.978 total time=   7.8s\n",
      "[CV 4/5] END ......svc__C=10.0, svc__gamma=10.0;, score=0.967 total time=   7.5s\n",
      "[CV 5/5] END ......svc__C=10.0, svc__gamma=10.0;, score=0.974 total time=   7.9s\n",
      "[CV 1/5] END svc__C=10.0, svc__gamma=3.9810717055349722;, score=0.974 total time=   4.4s\n",
      "[CV 2/5] END svc__C=10.0, svc__gamma=3.9810717055349722;, score=0.976 total time=   4.4s\n",
      "[CV 3/5] END svc__C=10.0, svc__gamma=3.9810717055349722;, score=0.977 total time=   4.7s\n",
      "[CV 4/5] END svc__C=10.0, svc__gamma=3.9810717055349722;, score=0.965 total time=   4.7s\n",
      "[CV 5/5] END svc__C=10.0, svc__gamma=3.9810717055349722;, score=0.969 total time=   4.4s\n",
      "[CV 1/5] END svc__C=10.0, svc__gamma=1.5848931924611134;, score=0.963 total time=   3.6s\n",
      "[CV 2/5] END svc__C=10.0, svc__gamma=1.5848931924611134;, score=0.963 total time=   3.6s\n",
      "[CV 3/5] END svc__C=10.0, svc__gamma=1.5848931924611134;, score=0.960 total time=   3.6s\n",
      "[CV 4/5] END svc__C=10.0, svc__gamma=1.5848931924611134;, score=0.953 total time=   3.8s\n",
      "[CV 5/5] END svc__C=10.0, svc__gamma=1.5848931924611134;, score=0.958 total time=   3.8s\n",
      "[CV 1/5] END svc__C=10.0, svc__gamma=0.630957344480193;, score=0.940 total time=   4.0s\n",
      "[CV 2/5] END svc__C=10.0, svc__gamma=0.630957344480193;, score=0.937 total time=   4.1s\n",
      "[CV 3/5] END svc__C=10.0, svc__gamma=0.630957344480193;, score=0.932 total time=   3.9s\n",
      "[CV 4/5] END svc__C=10.0, svc__gamma=0.630957344480193;, score=0.921 total time=   3.9s\n",
      "[CV 5/5] END svc__C=10.0, svc__gamma=0.630957344480193;, score=0.932 total time=   3.9s\n",
      "[CV 1/5] END svc__C=10.0, svc__gamma=0.25118864315095796;, score=0.895 total time=   4.6s\n",
      "[CV 2/5] END svc__C=10.0, svc__gamma=0.25118864315095796;, score=0.894 total time=   4.7s\n",
      "[CV 3/5] END svc__C=10.0, svc__gamma=0.25118864315095796;, score=0.884 total time=   4.6s\n",
      "[CV 4/5] END svc__C=10.0, svc__gamma=0.25118864315095796;, score=0.875 total time=   4.6s\n",
      "[CV 5/5] END svc__C=10.0, svc__gamma=0.25118864315095796;, score=0.892 total time=   4.7s\n",
      "[CV 1/5] END .......svc__C=10.0, svc__gamma=0.1;, score=0.852 total time=   5.6s\n",
      "[CV 2/5] END .......svc__C=10.0, svc__gamma=0.1;, score=0.850 total time=   5.7s\n",
      "[CV 3/5] END .......svc__C=10.0, svc__gamma=0.1;, score=0.848 total time=   5.6s\n",
      "[CV 4/5] END .......svc__C=10.0, svc__gamma=0.1;, score=0.835 total time=   5.4s\n",
      "[CV 5/5] END .......svc__C=10.0, svc__gamma=0.1;, score=0.855 total time=   5.6s\n",
      "[CV 1/5] END .......svc__C=1.0, svc__gamma=10.0;, score=0.969 total time=   7.3s\n",
      "[CV 2/5] END .......svc__C=1.0, svc__gamma=10.0;, score=0.965 total time=   7.4s\n",
      "[CV 3/5] END .......svc__C=1.0, svc__gamma=10.0;, score=0.973 total time=   7.6s\n",
      "[CV 4/5] END .......svc__C=1.0, svc__gamma=10.0;, score=0.958 total time=   7.5s\n"
     ]
    },
    {
     "name": "stdout",
     "output_type": "stream",
     "text": [
      "[CV 5/5] END .......svc__C=1.0, svc__gamma=10.0;, score=0.964 total time=   7.4s\n",
      "[CV 1/5] END svc__C=1.0, svc__gamma=3.9810717055349722;, score=0.956 total time=   5.1s\n",
      "[CV 2/5] END svc__C=1.0, svc__gamma=3.9810717055349722;, score=0.956 total time=   5.3s\n",
      "[CV 3/5] END svc__C=1.0, svc__gamma=3.9810717055349722;, score=0.955 total time=   5.2s\n",
      "[CV 4/5] END svc__C=1.0, svc__gamma=3.9810717055349722;, score=0.947 total time=   5.2s\n",
      "[CV 5/5] END svc__C=1.0, svc__gamma=3.9810717055349722;, score=0.952 total time=   5.2s\n",
      "[CV 1/5] END svc__C=1.0, svc__gamma=1.5848931924611134;, score=0.924 total time=   5.3s\n",
      "[CV 2/5] END svc__C=1.0, svc__gamma=1.5848931924611134;, score=0.924 total time=   5.1s\n",
      "[CV 3/5] END svc__C=1.0, svc__gamma=1.5848931924611134;, score=0.913 total time=   5.3s\n",
      "[CV 4/5] END svc__C=1.0, svc__gamma=1.5848931924611134;, score=0.907 total time=   5.2s\n",
      "[CV 5/5] END svc__C=1.0, svc__gamma=1.5848931924611134;, score=0.913 total time=   5.2s\n",
      "[CV 1/5] END svc__C=1.0, svc__gamma=0.630957344480193;, score=0.871 total time=   6.4s\n",
      "[CV 2/5] END svc__C=1.0, svc__gamma=0.630957344480193;, score=0.866 total time=   6.2s\n",
      "[CV 3/5] END svc__C=1.0, svc__gamma=0.630957344480193;, score=0.858 total time=   6.4s\n",
      "[CV 4/5] END svc__C=1.0, svc__gamma=0.630957344480193;, score=0.849 total time=   6.4s\n",
      "[CV 5/5] END svc__C=1.0, svc__gamma=0.630957344480193;, score=0.871 total time=   6.2s\n",
      "[CV 1/5] END svc__C=1.0, svc__gamma=0.25118864315095796;, score=0.821 total time=   7.7s\n",
      "[CV 2/5] END svc__C=1.0, svc__gamma=0.25118864315095796;, score=0.813 total time=   8.0s\n",
      "[CV 3/5] END svc__C=1.0, svc__gamma=0.25118864315095796;, score=0.806 total time=   8.0s\n",
      "[CV 4/5] END svc__C=1.0, svc__gamma=0.25118864315095796;, score=0.804 total time=   7.7s\n",
      "[CV 5/5] END svc__C=1.0, svc__gamma=0.25118864315095796;, score=0.824 total time=   7.6s\n",
      "[CV 1/5] END ........svc__C=1.0, svc__gamma=0.1;, score=0.765 total time=   9.3s\n",
      "[CV 2/5] END ........svc__C=1.0, svc__gamma=0.1;, score=0.760 total time=   9.6s\n",
      "[CV 3/5] END ........svc__C=1.0, svc__gamma=0.1;, score=0.754 total time=   9.6s\n",
      "[CV 4/5] END ........svc__C=1.0, svc__gamma=0.1;, score=0.756 total time=   9.8s\n",
      "[CV 5/5] END ........svc__C=1.0, svc__gamma=0.1;, score=0.765 total time=   9.6s\n"
     ]
    },
    {
     "data": {
      "text/markdown": [
       "### RBF SVM results :\n",
       "**Best C**: 10.00<br>**Best γ**: 10.00<br>**Best grid score**: 0.97<br>**F1 score**: 0.98<br>**Precision score**: 0.98<br>**Recall score**: 0.98"
      ],
      "text/plain": [
       "<IPython.core.display.Markdown object>"
      ]
     },
     "metadata": {},
     "output_type": "display_data"
    }
   ],
   "source": [
    "rbfSVM_params = {\n",
    "        'svc__C': numpy.logspace(3, 0, 4),\n",
    "        'svc__gamma' : numpy.logspace(1, -1, 6)\n",
    "}\n",
    "\n",
    "rbfsvmpipe = make_pipeline(MinMaxScaler(),SVC(kernel = 'rbf'))\n",
    "grid = GridSearchCV(estimator=rbfsvmpipe,param_grid=rbfSVM_params,verbose=4)\n",
    "grid.fit(X_train,y_train)\n",
    "rbfpred = grid.predict(X_test)\n",
    "rbfsvm_vectors=grid.best_estimator_.named_steps['svc'].n_support_#κρατάω τα διανύσματα για κάθε κλάση για το ερώτημα 5\n",
    "\n",
    "\n",
    "display(Markdown(\n",
    "\"### RBF SVM results \"+ \":\\n\" +\n",
    "    \"**Best C**: {:.2f}\".format(grid.best_params_['svc__C'])+\"<br>\"+\n",
    "    \"**Best γ**: {:.2f}\".format(grid.best_params_['svc__gamma'])+\"<br>\"+\n",
    "    \"**Best grid score**: {:.2f}\".format(grid.best_score_)+\"<br>\"+\n",
    "    \"**F1 score**: {:.2f}\".format(f1_score(y_test,rbfpred,average='weighted'))+\"<br>\"+\n",
    "    \"**Precision score**: {:.2f}\".format(precision_score(y_test,rbfpred,average='weighted'))+\"<br>\"+\n",
    "    \"**Recall score**: {:.2f}\".format(recall_score(y_test,rbfpred,average='weighted'))\n",
    "    \n",
    "))"
   ]
  },
  {
   "cell_type": "markdown",
   "id": "f0e71cc9",
   "metadata": {},
   "source": [
    "***Random forests***"
   ]
  },
  {
   "cell_type": "code",
   "execution_count": 7,
   "id": "511791af",
   "metadata": {
    "scrolled": true
   },
   "outputs": [
    {
     "name": "stdout",
     "output_type": "stream",
     "text": [
      "Fitting 5 folds for each of 5 candidates, totalling 25 fits\n",
      "[CV 1/5] END randomforestclassifier__n_estimators=1000;, score=0.964 total time=  16.6s\n",
      "[CV 2/5] END randomforestclassifier__n_estimators=1000;, score=0.960 total time=  15.8s\n",
      "[CV 3/5] END randomforestclassifier__n_estimators=1000;, score=0.961 total time=  15.5s\n",
      "[CV 4/5] END randomforestclassifier__n_estimators=1000;, score=0.953 total time=  15.6s\n",
      "[CV 5/5] END randomforestclassifier__n_estimators=1000;, score=0.963 total time=  15.7s\n",
      "[CV 1/5] END randomforestclassifier__n_estimators=177;, score=0.963 total time=   2.7s\n",
      "[CV 2/5] END randomforestclassifier__n_estimators=177;, score=0.955 total time=   2.7s\n",
      "[CV 3/5] END randomforestclassifier__n_estimators=177;, score=0.959 total time=   2.6s\n",
      "[CV 4/5] END randomforestclassifier__n_estimators=177;, score=0.951 total time=   2.7s\n",
      "[CV 5/5] END randomforestclassifier__n_estimators=177;, score=0.961 total time=   2.6s\n",
      "[CV 1/5] END randomforestclassifier__n_estimators=31;, score=0.952 total time=   0.4s\n",
      "[CV 2/5] END randomforestclassifier__n_estimators=31;, score=0.950 total time=   0.4s\n",
      "[CV 3/5] END randomforestclassifier__n_estimators=31;, score=0.949 total time=   0.4s\n",
      "[CV 4/5] END randomforestclassifier__n_estimators=31;, score=0.945 total time=   0.4s\n",
      "[CV 5/5] END randomforestclassifier__n_estimators=31;, score=0.953 total time=   0.4s\n",
      "[CV 1/5] END randomforestclassifier__n_estimators=5;, score=0.890 total time=   0.0s\n",
      "[CV 2/5] END randomforestclassifier__n_estimators=5;, score=0.890 total time=   0.0s\n",
      "[CV 3/5] END randomforestclassifier__n_estimators=5;, score=0.902 total time=   0.0s\n",
      "[CV 4/5] END randomforestclassifier__n_estimators=5;, score=0.884 total time=   0.0s\n",
      "[CV 5/5] END randomforestclassifier__n_estimators=5;, score=0.898 total time=   0.0s\n",
      "[CV 1/5] END randomforestclassifier__n_estimators=1;, score=0.801 total time=   0.0s\n",
      "[CV 2/5] END randomforestclassifier__n_estimators=1;, score=0.789 total time=   0.0s\n",
      "[CV 3/5] END randomforestclassifier__n_estimators=1;, score=0.792 total time=   0.0s\n",
      "[CV 4/5] END randomforestclassifier__n_estimators=1;, score=0.795 total time=   0.0s\n",
      "[CV 5/5] END randomforestclassifier__n_estimators=1;, score=0.809 total time=   0.0s\n"
     ]
    },
    {
     "data": {
      "text/markdown": [
       "### Random Forests results :\n",
       "**Best n**: 1000.00<br>**Best grid score**: 0.96<br>**F1 score**: 0.96<br>**Precision score**: 0.96<br>**Recall score**: 0.96"
      ],
      "text/plain": [
       "<IPython.core.display.Markdown object>"
      ]
     },
     "metadata": {},
     "output_type": "display_data"
    }
   ],
   "source": [
    "randomF_params = {\n",
    "        'randomforestclassifier__n_estimators': numpy.logspace(3, 0, 5,dtype = 'int')\n",
    "        #dtype='int' επειδή η παράμετρος n_estimators δέχεται μόνο τιμές integer\n",
    "        #για τιμες μεγαλύτερες απο 10^3 το καθε fold απαιτούσε 4-5 λεπτα χώρις κάποιο ιδιαίτερο ώφελος\n",
    "}\n",
    "\n",
    "randomFpipe = make_pipeline(MinMaxScaler(),RandomForestClassifier())\n",
    "grid = GridSearchCV(estimator=randomFpipe,param_grid=randomF_params,verbose=4)\n",
    "grid.fit(X_train,y_train)\n",
    "rfpred = grid.predict(X_test)\n",
    "\n",
    "\n",
    "display(Markdown(\n",
    "\"### Random Forests results \"+ \":\\n\" +\n",
    "    \"**Best n**: {:.2f}\".format(grid.best_params_['randomforestclassifier__n_estimators'])+\"<br>\"+\n",
    "    \"**Best grid score**: {:.2f}\".format(grid.best_score_)+\"<br>\"+\n",
    "    \"**F1 score**: {:.2f}\".format(f1_score(y_test,rfpred,average='weighted'))+\"<br>\"+\n",
    "    \"**Precision score**: {:.2f}\".format(precision_score(y_test,rfpred,average='weighted'))+\"<br>\"+\n",
    "    \"**Recall score**: {:.2f}\".format(recall_score(y_test,rfpred,average='weighted'))\n",
    "    \n",
    "))"
   ]
  },
  {
   "cell_type": "markdown",
   "id": "4f36a000",
   "metadata": {},
   "source": [
    "***Extremely Randomized Trees***"
   ]
  },
  {
   "cell_type": "code",
   "execution_count": 8,
   "id": "cdde4aef",
   "metadata": {},
   "outputs": [
    {
     "name": "stdout",
     "output_type": "stream",
     "text": [
      "Fitting 5 folds for each of 5 candidates, totalling 25 fits\n",
      "[CV 1/5] END extratreesclassifier__n_estimators=1000;, score=0.973 total time=  13.0s\n",
      "[CV 2/5] END extratreesclassifier__n_estimators=1000;, score=0.971 total time=  13.1s\n",
      "[CV 3/5] END extratreesclassifier__n_estimators=1000;, score=0.969 total time=  13.2s\n",
      "[CV 4/5] END extratreesclassifier__n_estimators=1000;, score=0.962 total time=  13.1s\n",
      "[CV 5/5] END extratreesclassifier__n_estimators=1000;, score=0.970 total time=  13.1s\n",
      "[CV 1/5] END extratreesclassifier__n_estimators=177;, score=0.971 total time=   2.2s\n",
      "[CV 2/5] END extratreesclassifier__n_estimators=177;, score=0.971 total time=   2.2s\n",
      "[CV 3/5] END extratreesclassifier__n_estimators=177;, score=0.969 total time=   2.2s\n",
      "[CV 4/5] END extratreesclassifier__n_estimators=177;, score=0.960 total time=   2.2s\n",
      "[CV 5/5] END extratreesclassifier__n_estimators=177;, score=0.969 total time=   2.3s\n",
      "[CV 1/5] END extratreesclassifier__n_estimators=31;, score=0.963 total time=   0.4s\n",
      "[CV 2/5] END extratreesclassifier__n_estimators=31;, score=0.963 total time=   0.3s\n",
      "[CV 3/5] END extratreesclassifier__n_estimators=31;, score=0.958 total time=   0.3s\n",
      "[CV 4/5] END extratreesclassifier__n_estimators=31;, score=0.951 total time=   0.3s\n",
      "[CV 5/5] END extratreesclassifier__n_estimators=31;, score=0.962 total time=   0.3s\n",
      "[CV 1/5] END extratreesclassifier__n_estimators=5;, score=0.899 total time=   0.0s\n",
      "[CV 2/5] END extratreesclassifier__n_estimators=5;, score=0.898 total time=   0.0s\n",
      "[CV 3/5] END extratreesclassifier__n_estimators=5;, score=0.917 total time=   0.0s\n",
      "[CV 4/5] END extratreesclassifier__n_estimators=5;, score=0.902 total time=   0.0s\n",
      "[CV 5/5] END extratreesclassifier__n_estimators=5;, score=0.905 total time=   0.0s\n",
      "[CV 1/5] END extratreesclassifier__n_estimators=1;, score=0.799 total time=   0.0s\n",
      "[CV 2/5] END extratreesclassifier__n_estimators=1;, score=0.802 total time=   0.0s\n",
      "[CV 3/5] END extratreesclassifier__n_estimators=1;, score=0.799 total time=   0.0s\n",
      "[CV 4/5] END extratreesclassifier__n_estimators=1;, score=0.801 total time=   0.0s\n",
      "[CV 5/5] END extratreesclassifier__n_estimators=1;, score=0.812 total time=   0.0s\n"
     ]
    },
    {
     "data": {
      "text/markdown": [
       "### Extra trees results :\n",
       "**Best n**: 1000.00<br>**Best grid score**: 0.97<br>**F1 score**: 0.97<br>**Precision score**: 0.97<br>**Recall score**: 0.97"
      ],
      "text/plain": [
       "<IPython.core.display.Markdown object>"
      ]
     },
     "metadata": {},
     "output_type": "display_data"
    }
   ],
   "source": [
    "extraTrees_params = {\n",
    "        'extratreesclassifier__n_estimators': numpy.logspace(3, 0, 5,dtype = 'int')\n",
    "        #dtype='int' επειδή η παράμετρος n_estimators δέχεται μόνο τιμές integer\n",
    "        #για τιμες μεγαλύτερες απο 10^3 το καθε fold απαιτούσε 4-5 λεπτα χώρις κάποιο ιδιαίτερο ώφελος\n",
    "}\n",
    "\n",
    "extraTreespipe = make_pipeline(MinMaxScaler(),ExtraTreesClassifier())\n",
    "grid = GridSearchCV(estimator=extraTreespipe,param_grid=extraTrees_params,verbose=4)\n",
    "grid.fit(X_train,y_train)\n",
    "extrapred = grid.predict(X_test)\n",
    "\n",
    "display(Markdown(\n",
    "\"### Extra trees results \"+ \":\\n\" +\n",
    "    \"**Best n**: {:.2f}\".format(grid.best_params_['extratreesclassifier__n_estimators'])+\"<br>\"+\n",
    "    \"**Best grid score**: {:.2f}\".format(grid.best_score_)+\"<br>\"+\n",
    "    \"**F1 score**: {:.2f}\".format(f1_score(y_test,extrapred,average='weighted'))+\"<br>\"+\n",
    "    \"**Precision score**: {:.2f}\".format(precision_score(y_test,extrapred,average='weighted'))+\"<br>\"+\n",
    "    \"**Recall score**: {:.2f}\".format(recall_score(y_test,extrapred,average='weighted'))\n",
    "    \n",
    "))"
   ]
  },
  {
   "cell_type": "markdown",
   "id": "fb27d33e",
   "metadata": {},
   "source": [
    "***Logistic regression***:Κακά αποτελέσματα σε σχέση με τους υπόλοιπους αλγορίθμους και δεν είναι ούτε πιο γρήγορος<br>\n",
    "***Linear SVM***:αρκετά γρήγορος αλλά κακά score σε σχέση με τους άλλους αλγορίθμους<br>\n",
    "***K-Nearest Neighbors***:Scores σχέδον ίδια με τα καλύτερα που πήραμε απο τους άλλους αλγορίθμους και πολύ γρήγορη έκτελεση των folds<br>\n",
    "***RBF SVM***:Τα καλύτερα αποτελέσματα με γρήγορη εκτέλεση των folds άλλα χρειάζονται αρκετές δοκιμές για να βρεθεί η καλύτερη σχέση μεταξύ C και γ<br>\n",
    "***Random forests***:Scores αρκετά κοντά στα βέλτιστα και γρήγορος σχετικά χρόνος εκτέλεση με συγκεκριμένες τιμες στο n<br>\n",
    "***Extremely Randomized Trees***:Παρόμοια απόδοση με τον Random Forests<br>\n",
    "\n"
   ]
  },
  {
   "cell_type": "markdown",
   "id": "06f0b85b",
   "metadata": {},
   "source": [
    "***Τα καλύτερα score τα παίρνουμε με τον αλγόριθμο SVM RBF*** "
   ]
  },
  {
   "cell_type": "code",
   "execution_count": 9,
   "id": "c6b1d4ba",
   "metadata": {
    "scrolled": true
   },
   "outputs": [
    {
     "name": "stdout",
     "output_type": "stream",
     "text": [
      "              precision    recall  f1-score   support\n",
      "\n",
      "           0       0.99      0.99      0.99       156\n",
      "           1       0.94      0.99      0.96       136\n",
      "           2       0.99      0.99      0.99       142\n",
      "           3       0.96      0.98      0.97       167\n",
      "           4       0.98      0.95      0.97       152\n",
      "           5       0.99      0.97      0.98       153\n",
      "           6       0.98      0.99      0.98       164\n",
      "           7       0.94      0.91      0.93       151\n",
      "           8       0.97      0.98      0.97       165\n",
      "           9       0.97      0.96      0.97       148\n",
      "          10       0.95      0.95      0.95       146\n",
      "          11       0.99      0.97      0.98       157\n",
      "          12       0.98      0.99      0.99       144\n",
      "          13       0.99      0.97      0.98       166\n",
      "          14       0.98      0.99      0.99       139\n",
      "          15       0.99      0.98      0.99       168\n",
      "          16       1.00      0.98      0.99       168\n",
      "          17       0.96      0.99      0.97       161\n",
      "          18       0.99      1.00      0.99       161\n",
      "          19       1.00      0.98      0.99       151\n",
      "          20       0.99      1.00      1.00       168\n",
      "          21       0.98      0.99      0.98       136\n",
      "          22       1.00      0.99      0.99       139\n",
      "          23       0.98      0.97      0.98       159\n",
      "          24       0.97      0.99      0.98       145\n",
      "          25       0.98      0.99      0.99       158\n",
      "\n",
      "    accuracy                           0.98      4000\n",
      "   macro avg       0.98      0.98      0.98      4000\n",
      "weighted avg       0.98      0.98      0.98      4000\n",
      "\n"
     ]
    }
   ],
   "source": [
    "print(classification_report(y_test,rbfpred))"
   ]
  },
  {
   "cell_type": "markdown",
   "id": "ead6ca34",
   "metadata": {},
   "source": [
    "***Βλέπουμε πως η κλάση 7 ταξινομείται αρκετά χειρότερα απο τις υπόλοιπες δηλαδη το 8o γράμμα το H***"
   ]
  },
  {
   "cell_type": "markdown",
   "id": "ca47e7e9",
   "metadata": {},
   "source": [
    "***Linear SVM:***Τα αποτελέσματα φαίνονται να βελτιώνονται όσο αυξάνουμε το C και τελικά επιλέγεται το μεγαλύτερο δυνατό C ως βέλτιστο"
   ]
  },
  {
   "cell_type": "markdown",
   "id": "9ba09831",
   "metadata": {},
   "source": [
    "***SVM RBF:*** Τα αποτελέσματα του svm εξαρτώνται απο το C και το γ.Αν το γ είναι πολυ μικρό δεν μπορεί να αποδόσει σωστά τις\n",
    "διαστάσεις του μοντέλου ένω αν είναι πολύ μεγάλο θα προκύψει overfit των δεδομένων.Στα συγκεκριμένα δεδομένα όσο αυξάνεται\n",
    "το γ παίρνουμε καλύτερα αποτελέσματα.Η μέγιστη τιμή του γ είναι 10, η οποία και επιλέγεται απο το grid search δεν είναι υπερβολικά μεγάλη,το πιο πιθανό με μεγαλύτερα γ να παίρναμε χειρότερα score.Το С φαίνεται να μην επηρεάζει τα \n",
    "αποτελέσματα τόσο όσο το γ.Όταν είναι πολύ μικρό δεν παίρνουμαι καλά score άλλα και οσο το αυξάνουμε πάνω απο 10(η τιμη\n",
    "που επιλέχτηκε απο το gridsearch παίρνουμε έλαχιστα χειρότερα score                                       "
   ]
  },
  {
   "cell_type": "code",
   "execution_count": 10,
   "id": "76b91e20",
   "metadata": {},
   "outputs": [
    {
     "name": "stdout",
     "output_type": "stream",
     "text": [
      "Linear SVM vectors for each class: [ 88 322 195 198 265 257 425 475 209 203 252 168 146 165 426 180 303 315\n",
      " 421 192 154 177 119 223 182 218]\n",
      "RBF SVM vectors for each class: [213 391 285 372 366 344 363 386 209 273 387 220 330 333 320 274 345 372\n",
      " 396 278 309 271 269 356 338 271]\n"
     ]
    }
   ],
   "source": [
    "#τις μεταβλητές με τα διανύσματα τις υπολογίζω μετά τα gridsearch των αντιστοίχων αλγορίθμων\n",
    "print(\"Linear SVM vectors for each class:\",linearsvm_vectors)\n",
    "print(\"RBF SVM vectors for each class:\",rbfsvm_vectors)"
   ]
  },
  {
   "cell_type": "code",
   "execution_count": null,
   "id": "ec15edd2",
   "metadata": {},
   "outputs": [],
   "source": []
  }
 ],
 "metadata": {
  "kernelspec": {
   "display_name": "Python 3 (ipykernel)",
   "language": "python",
   "name": "python3"
  },
  "language_info": {
   "codemirror_mode": {
    "name": "ipython",
    "version": 3
   },
   "file_extension": ".py",
   "mimetype": "text/x-python",
   "name": "python",
   "nbconvert_exporter": "python",
   "pygments_lexer": "ipython3",
   "version": "3.9.7"
  }
 },
 "nbformat": 4,
 "nbformat_minor": 5
}
