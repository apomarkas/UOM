{
  "cells": [
    {
      "cell_type": "markdown",
      "metadata": {
        "id": "OI9NKBQwXM9K"
      },
      "source": [
        "# Εργασία 2: Αυτόματη διάγνωση σε ιατρικές εικόνες"
      ]
    },
    {
      "cell_type": "markdown",
      "metadata": {
        "id": "bRbWtqizXT6T"
      },
      "source": [
        "Πέρα από τα εργαστήρια 2a και 2b, μπορείτε να βρείτε έτοιμο σχετικό κώδικα και εδώ:\n",
        "\n",
        "https://github.com/MedMNIST/MedMNIST/blob/main/examples/getting_started.ipynb\n",
        "\n",
        "Εγκαθιστούμε τη βιβλιοθήκη `medmnist` στο virtual machine μας. (Χρειάζεται μόνο την πρώτη φορά κάθε session)."
      ]
    },
    {
      "cell_type": "code",
      "execution_count": 1,
      "metadata": {
        "colab": {
          "base_uri": "https://localhost:8080/"
        },
        "id": "Ig8aN-lUH1tp",
        "outputId": "bcad44e7-8154-41e9-a68e-1eb85bfe923a"
      },
      "outputs": [
        {
          "output_type": "stream",
          "name": "stdout",
          "text": [
            "Looking in indexes: https://pypi.org/simple, https://us-python.pkg.dev/colab-wheels/public/simple/\n",
            "Collecting medmnist\n",
            "  Downloading medmnist-2.1.0-py3-none-any.whl (21 kB)\n",
            "Requirement already satisfied: Pillow in /usr/local/lib/python3.7/dist-packages (from medmnist) (7.1.2)\n",
            "Requirement already satisfied: torch in /usr/local/lib/python3.7/dist-packages (from medmnist) (1.11.0+cu113)\n",
            "Requirement already satisfied: scikit-image in /usr/local/lib/python3.7/dist-packages (from medmnist) (0.18.3)\n",
            "Requirement already satisfied: pandas in /usr/local/lib/python3.7/dist-packages (from medmnist) (1.3.5)\n",
            "Requirement already satisfied: tqdm in /usr/local/lib/python3.7/dist-packages (from medmnist) (4.64.0)\n",
            "Collecting fire\n",
            "  Downloading fire-0.4.0.tar.gz (87 kB)\n",
            "\u001b[K     |████████████████████████████████| 87 kB 3.8 MB/s \n",
            "\u001b[?25hRequirement already satisfied: numpy in /usr/local/lib/python3.7/dist-packages (from medmnist) (1.21.6)\n",
            "Requirement already satisfied: torchvision in /usr/local/lib/python3.7/dist-packages (from medmnist) (0.12.0+cu113)\n",
            "Requirement already satisfied: scikit-learn in /usr/local/lib/python3.7/dist-packages (from medmnist) (1.0.2)\n",
            "Requirement already satisfied: six in /usr/local/lib/python3.7/dist-packages (from fire->medmnist) (1.15.0)\n",
            "Requirement already satisfied: termcolor in /usr/local/lib/python3.7/dist-packages (from fire->medmnist) (1.1.0)\n",
            "Requirement already satisfied: pytz>=2017.3 in /usr/local/lib/python3.7/dist-packages (from pandas->medmnist) (2022.1)\n",
            "Requirement already satisfied: python-dateutil>=2.7.3 in /usr/local/lib/python3.7/dist-packages (from pandas->medmnist) (2.8.2)\n",
            "Requirement already satisfied: matplotlib!=3.0.0,>=2.0.0 in /usr/local/lib/python3.7/dist-packages (from scikit-image->medmnist) (3.2.2)\n",
            "Requirement already satisfied: imageio>=2.3.0 in /usr/local/lib/python3.7/dist-packages (from scikit-image->medmnist) (2.4.1)\n",
            "Requirement already satisfied: networkx>=2.0 in /usr/local/lib/python3.7/dist-packages (from scikit-image->medmnist) (2.6.3)\n",
            "Requirement already satisfied: tifffile>=2019.7.26 in /usr/local/lib/python3.7/dist-packages (from scikit-image->medmnist) (2021.11.2)\n",
            "Requirement already satisfied: scipy>=1.0.1 in /usr/local/lib/python3.7/dist-packages (from scikit-image->medmnist) (1.4.1)\n",
            "Requirement already satisfied: PyWavelets>=1.1.1 in /usr/local/lib/python3.7/dist-packages (from scikit-image->medmnist) (1.3.0)\n",
            "Requirement already satisfied: cycler>=0.10 in /usr/local/lib/python3.7/dist-packages (from matplotlib!=3.0.0,>=2.0.0->scikit-image->medmnist) (0.11.0)\n",
            "Requirement already satisfied: pyparsing!=2.0.4,!=2.1.2,!=2.1.6,>=2.0.1 in /usr/local/lib/python3.7/dist-packages (from matplotlib!=3.0.0,>=2.0.0->scikit-image->medmnist) (3.0.9)\n",
            "Requirement already satisfied: kiwisolver>=1.0.1 in /usr/local/lib/python3.7/dist-packages (from matplotlib!=3.0.0,>=2.0.0->scikit-image->medmnist) (1.4.2)\n",
            "Requirement already satisfied: typing-extensions in /usr/local/lib/python3.7/dist-packages (from kiwisolver>=1.0.1->matplotlib!=3.0.0,>=2.0.0->scikit-image->medmnist) (4.2.0)\n",
            "Requirement already satisfied: joblib>=0.11 in /usr/local/lib/python3.7/dist-packages (from scikit-learn->medmnist) (1.1.0)\n",
            "Requirement already satisfied: threadpoolctl>=2.0.0 in /usr/local/lib/python3.7/dist-packages (from scikit-learn->medmnist) (3.1.0)\n",
            "Requirement already satisfied: requests in /usr/local/lib/python3.7/dist-packages (from torchvision->medmnist) (2.23.0)\n",
            "Requirement already satisfied: idna<3,>=2.5 in /usr/local/lib/python3.7/dist-packages (from requests->torchvision->medmnist) (2.10)\n",
            "Requirement already satisfied: chardet<4,>=3.0.2 in /usr/local/lib/python3.7/dist-packages (from requests->torchvision->medmnist) (3.0.4)\n",
            "Requirement already satisfied: certifi>=2017.4.17 in /usr/local/lib/python3.7/dist-packages (from requests->torchvision->medmnist) (2022.5.18.1)\n",
            "Requirement already satisfied: urllib3!=1.25.0,!=1.25.1,<1.26,>=1.21.1 in /usr/local/lib/python3.7/dist-packages (from requests->torchvision->medmnist) (1.24.3)\n",
            "Building wheels for collected packages: fire\n",
            "  Building wheel for fire (setup.py) ... \u001b[?25l\u001b[?25hdone\n",
            "  Created wheel for fire: filename=fire-0.4.0-py2.py3-none-any.whl size=115942 sha256=71be7c50f84d8311e097dbb36c3d21491b54f5ea3f3bee0d55135900df03c92f\n",
            "  Stored in directory: /root/.cache/pip/wheels/8a/67/fb/2e8a12fa16661b9d5af1f654bd199366799740a85c64981226\n",
            "Successfully built fire\n",
            "Installing collected packages: fire, medmnist\n",
            "Successfully installed fire-0.4.0 medmnist-2.1.0\n"
          ]
        }
      ],
      "source": [
        "!pip install medmnist"
      ]
    },
    {
      "cell_type": "markdown",
      "metadata": {
        "id": "5F5FODxrYtJo"
      },
      "source": [
        "## Εισαγωγή αναγκαίων βιβλιοθηκών και πακέτων\n",
        "Μπορείτε να επεκτείνετε αυτόν τον κώδικα με ό,τι χρειάζεστε"
      ]
    },
    {
      "cell_type": "code",
      "execution_count": 2,
      "metadata": {
        "colab": {
          "base_uri": "https://localhost:8080/"
        },
        "id": "DsXbnmW_ggQp",
        "outputId": "d31dfd77-ee78-4a81-bdc6-70832f831511"
      },
      "outputs": [
        {
          "output_type": "stream",
          "name": "stdout",
          "text": [
            "Pytorch version: 1.11.0+cu113\n",
            "GPU available: True\n",
            "MedMNIST v2.1.0 @ https://github.com/MedMNIST/MedMNIST/\n"
          ]
        }
      ],
      "source": [
        "from tqdm import tqdm\n",
        "\n",
        "import torch\n",
        "import torchvision.transforms as transforms\n",
        "import torch.nn as nn\n",
        "import torch.optim as optim\n",
        "import torch.utils.data as data\n",
        "from torch.optim import lr_scheduler\n",
        "import time\n",
        "\n",
        "import medmnist\n",
        "from medmnist import INFO\n",
        "from sklearn.metrics import f1_score, accuracy_score\n",
        "import numpy as np\n",
        "from tqdm import tqdm\n",
        "import copy\n",
        "\n",
        "print(\"Pytorch version:\", torch.__version__)\n",
        "print(\"GPU available:\", torch.cuda.is_available())\n",
        "print(f\"MedMNIST v{medmnist.__version__} @ {medmnist.HOMEPAGE}\")"
      ]
    },
    {
      "cell_type": "markdown",
      "metadata": {
        "id": "Yf94VGrdY8LQ"
      },
      "source": [
        "## Transforms\n",
        "Θα χρησιμοποιήσουμε τις ίδιες προεπεξεργασίες για όλα τα δεδομένα μας ώστε τα διαφορετικά μοντέλα να είναι συμβατά μεταξύ τους.\n",
        "\n",
        "Αυτό στηρίζεται στο ότι οι εικόνες των datasets που θα χρησιμοποιήσουμε θα έχουν ίσες διαστάσεις μεταξύ τους (28$\\times$28$\\times$3)"
      ]
    },
    {
      "cell_type": "code",
      "execution_count": 3,
      "metadata": {
        "id": "VC_5zN15hN-t"
      },
      "outputs": [],
      "source": [
        "data_transforms = {\n",
        "    'train': transforms.Compose([\n",
        "        transforms.ToTensor(),transforms.Normalize((0.5, 0.5, 0.5), (0.5, 0.5, 0.5)),transforms.RandomHorizontalFlip()\n",
        "    ]),\n",
        "    'test': transforms.Compose([\n",
        "        transforms.ToTensor(),transforms.Normalize((0.5, 0.5, 0.5), (0.5, 0.5, 0.5))\n",
        "    ]),\n",
        "}"
      ]
    },
    {
      "cell_type": "markdown",
      "metadata": {
        "id": "BY1gz2UMZdVA"
      },
      "source": [
        "## Εισαγωγή του Colon Pathology dataset "
      ]
    },
    {
      "cell_type": "code",
      "execution_count": 4,
      "metadata": {
        "colab": {
          "base_uri": "https://localhost:8080/"
        },
        "id": "Ek-EjU0zIYtX",
        "outputId": "9d6c0dd4-2f91-4954-dac2-4387e58f0adb"
      },
      "outputs": [
        {
          "output_type": "stream",
          "name": "stdout",
          "text": [
            "Οι εικόνες του dataset έχoυν 3 κανάλια. Ο τύπος προβλήματος είναι multi-class ταξινόμηση με 9 κλάσεις.\n"
          ]
        }
      ],
      "source": [
        "# Το αντικείμενο medmnist.INFO μανατζάρει όλα τα datasets του medmnist. Με το κλειδί 'pathmnist' (το βρήκαμε στο documentation) επιλέγουμε το Colon Pathology Dataset\n",
        "path_info = INFO['pathmnist']\n",
        "path_task = path_info['task']\n",
        "path_channels = path_info['n_channels']\n",
        "path_classes = len(path_info['label'])\n",
        "\n",
        "print (\"Οι εικόνες του dataset έχoυν\", path_channels, \"κανάλια. Ο τύπος προβλήματος είναι\", path_task, \"ταξινόμηση με\", path_classes, \"κλάσεις.\")"
      ]
    },
    {
      "cell_type": "code",
      "execution_count": 5,
      "metadata": {
        "colab": {
          "base_uri": "https://localhost:8080/",
          "height": 372,
          "referenced_widgets": [
            "fa9f746b48a948bbb08d4486975dd87b",
            "73c5fb245e02470d817551a975346727",
            "337352e659404fcd8bb037fcde2321e4",
            "044e83c2516844208175349163f6dfae",
            "9c2e1e4ea7074e56b8c9d2ab0c1f474b",
            "49821e2684284b18beb4ebb43450eb6b",
            "10b35b711b284502890ff7597153d06a",
            "03dfcf51a3454014b88d3ca18aa5c781",
            "6e418aa42ca44d8d9fb2ecbeeeba9fa8",
            "00ddf326fd0d444fb3fc6ead5d26c484",
            "e66cf7843bc94231a9d36dd781f584a2"
          ]
        },
        "id": "ihBYlSqCJb2g",
        "outputId": "5e387c1b-5049-4479-eacc-a8d26fc2fedc"
      },
      "outputs": [
        {
          "output_type": "stream",
          "name": "stdout",
          "text": [
            "Downloading https://zenodo.org/record/6496656/files/pathmnist.npz?download=1 to /root/.medmnist/pathmnist.npz\n"
          ]
        },
        {
          "output_type": "display_data",
          "data": {
            "text/plain": [
              "  0%|          | 0/205615438 [00:00<?, ?it/s]"
            ],
            "application/vnd.jupyter.widget-view+json": {
              "version_major": 2,
              "version_minor": 0,
              "model_id": "fa9f746b48a948bbb08d4486975dd87b"
            }
          },
          "metadata": {}
        },
        {
          "output_type": "stream",
          "name": "stdout",
          "text": [
            "Using downloaded and verified file: /root/.medmnist/pathmnist.npz\n",
            "Using downloaded and verified file: /root/.medmnist/pathmnist.npz\n",
            "---------------------------------------------------------------------\n",
            "Διαθέσιμες πληροφορίες για το dataset:\n",
            "dict_keys(['python_class', 'description', 'url', 'MD5', 'task', 'label', 'n_channels', 'n_samples', 'license'])\n",
            "Περιγραφή dataset:\n",
            "The PathMNIST is based on a prior study for predicting survival from colorectal cancer histology slides, providing a dataset (NCT-CRC-HE-100K) of 100,000 non-overlapping image patches from hematoxylin & eosin stained histological images, and a test dataset (CRC-VAL-HE-7K) of 7,180 image patches from a different clinical center. The dataset is comprised of 9 types of tissues, resulting in a multi-class classification task. We resize the source images of 3×224×224 into 3×28×28, and split NCT-CRC-HE-100K into training and validation set with a ratio of 9:1. The CRC-VAL-HE-7K is treated as the test set.\n",
            "Ερμηνεία labels:\n",
            "{'0': 'adipose', '1': 'background', '2': 'debris', '3': 'lymphocytes', '4': 'mucus', '5': 'smooth muscle', '6': 'normal colon mucosa', '7': 'cancer-associated stroma', '8': 'colorectal adenocarcinoma epithelium'}\n",
            "Δείγμα εικόνων του Colon Pathology dataset:\n"
          ]
        },
        {
          "output_type": "execute_result",
          "data": {
            "text/plain": [
              "<PIL.Image.Image image mode=RGB size=112x112 at 0x7F6F358D7F10>"
            ],
            "image/png": "[encoded data removed]"
          },
          "metadata": {},
          "execution_count": 5
        }
      ],
      "source": [
        "# Το πεδίο 'python_class' του info επιστρέφει μια κλάση της python που λειτουργεί ως pytorch dataset, για να την περάσουμε στο dataloader\n",
        "Path_DataClass = getattr(medmnist, path_info['python_class'])\n",
        "\n",
        "# Φόρτωση (και κατέβασμα) δεδομένων\n",
        "path_train_dataset = Path_DataClass(split='train', transform=data_transforms['train'], download=True)\n",
        "path_val_dataset = Path_DataClass(split='val', transform=data_transforms['test'], download=True)\n",
        "path_test_dataset = Path_DataClass(split='test', transform=data_transforms['test'], download=True)\n",
        "\n",
        "#Το .info είναι ένα dictionary με επεξηγηματικές πληροφορίες για το dataset\n",
        "print(\"---------------------------------------------------------------------\")\n",
        "print(\"Διαθέσιμες πληροφορίες για το dataset:\")\n",
        "print(path_train_dataset.info.keys())\n",
        "print(\"Περιγραφή dataset:\")\n",
        "print(path_train_dataset.info['description'])\n",
        "print(\"Ερμηνεία labels:\")\n",
        "print(path_train_dataset.info['label'])\n",
        "\n",
        "#Το αλλάζουμε σύμφωνα με την εκφώνηση\n",
        "BATCH_SIZE = 128\n",
        "\n",
        "# encapsulate data into dataloader form\n",
        "#Στον αρχικό κώδικα το path_test_loader έπαιρνε τιμές απο το validation dataset οπότε το άλλαξα να παίρνει τιμές απο το test dataset.\n",
        "path_train_loader = data.DataLoader(dataset=path_train_dataset, batch_size=BATCH_SIZE, shuffle=True)\n",
        "path_val_loader = data.DataLoader(dataset=path_val_dataset, batch_size=2*BATCH_SIZE, shuffle=False)\n",
        "path_test_loader = data.DataLoader(dataset=path_test_dataset, batch_size=2*BATCH_SIZE, shuffle=False)\n",
        "\n",
        "print(\"Δείγμα εικόνων του Colon Pathology dataset:\")\n",
        "path_train_dataset.montage(length=4)"
      ]
    },
    {
      "cell_type": "markdown",
      "metadata": {
        "id": "2oMBgUg8cJ_s"
      },
      "source": [
        "## Δημιουργία μοντέλου\n",
        "\n",
        "Ο ενδεικτικός κώδικας του MedMNIST προβλέπει τόσο ο αριθμός των καναλιών των εικόνων όσο και ο αριθμός των κλάσεων να εισάγονται ως παράμετροι. Αυτή η ευελιξία δεν μας είναι απαραίτητη καθώς εμείς θα δημιουργήσουμε ένα δίκτυο που θα δέχεται εικόνες 3 καναλιών και θα επιστρέφει 9 κλάσεις, συγκεκριμένα για το PathMNIST. Οποιαδήποτε αλλαγή κάνουμε (π.χ. στον αριθμό των κλάσεων/μονάδων εξόδου) θα γίνει αφού δημιουργήσουμε ένα στιγμιότυπο του ίδιου δικτύου.\n",
        "\n",
        "Παρόλα αυτά, αν προτιμάτε να τα αφήσετε ως παραμέτρους, μπορείτε."
      ]
    },
    {
      "cell_type": "code",
      "execution_count": 6,
      "metadata": {
        "colab": {
          "base_uri": "https://localhost:8080/"
        },
        "id": "zjUr5p-Kar6Y",
        "outputId": "c5c51cbd-3bf6-4a2f-96b0-e681c49d4c1c"
      },
      "outputs": [
        {
          "output_type": "stream",
          "name": "stdout",
          "text": [
            "Λοιπός κώδικας παραμετροποίησης, training, testing κλπ εδώ\n"
          ]
        }
      ],
      "source": [
        "print(\"Λοιπός κώδικας παραμετροποίησης, training, testing κλπ εδώ\")"
      ]
    },
    {
      "cell_type": "code",
      "execution_count": 7,
      "metadata": {
        "colab": {
          "base_uri": "https://localhost:8080/"
        },
        "id": "AgQcxh9wLF9Z",
        "outputId": "8017bb5f-55be-4031-a1ef-eff591ffe575"
      },
      "outputs": [
        {
          "output_type": "stream",
          "name": "stdout",
          "text": [
            "Κανάλια: 3 Κλάσεις: 9\n"
          ]
        }
      ],
      "source": [
        "#Δομή μοντέλου\n",
        "class Net(nn.Module):\n",
        "  def __init__(self, in_channels, num_classes):\n",
        "        super(Net, self).__init__()\n",
        "        \n",
        "\n",
        "        self.layer1 = nn.Sequential(\n",
        "            nn.Conv2d(in_channels, 16, kernel_size=3,padding=1),\n",
        "            nn.BatchNorm2d(16),\n",
        "            nn.ReLU())\n",
        "\n",
        "        self.layer2 = nn.Sequential(\n",
        "            nn.Conv2d(16, 32, kernel_size=3,padding=1),\n",
        "            nn.BatchNorm2d(32),\n",
        "            nn.ReLU())\n",
        "\n",
        "        self.layer3 = nn.Sequential(\n",
        "            nn.Conv2d(32, 64, kernel_size=5,padding=2),\n",
        "            nn.BatchNorm2d(64),\n",
        "            nn.ReLU(),\n",
        "            nn.MaxPool2d(kernel_size=2, stride=2))\n",
        "        \n",
        "        self.layer4 = nn.Sequential(\n",
        "            nn.Conv2d(64, 64, kernel_size=3,padding=1),\n",
        "            nn.BatchNorm2d(64),\n",
        "            nn.ReLU(),\n",
        "            nn.MaxPool2d(kernel_size=2, stride=2))\n",
        "\n",
        "        self.layer5 = nn.Sequential(\n",
        "            nn.Conv2d(64, 64, kernel_size=3, padding=1),\n",
        "            nn.BatchNorm2d(64),\n",
        "            nn.ReLU(),\n",
        "            nn.MaxPool2d(kernel_size=2, stride=2))\n",
        "\n",
        "        self.fc = nn.Sequential(\n",
        "            \n",
        "            nn.Linear(576, 1024),\n",
        "            nn.Linear(1024, num_classes))\n",
        "\n",
        "  def forward(self, x):\n",
        "        x = self.layer1(x)\n",
        "        x = self.layer2(x)\n",
        "        x = self.layer3(x)\n",
        "        x = self.layer4(x)    \n",
        "        x = self.layer5(x)\n",
        "        x = torch.flatten(x, 1)\n",
        "        x = self.fc(x)\n",
        "        return x\n",
        "\n",
        "print(\"Κανάλια:\",path_channels,\"Κλάσεις:\",path_classes)\n",
        "model = Net(in_channels=path_channels, num_classes=path_classes)\n",
        "\n",
        "#Πιο πάνω είδαμε πως το cuda είναι available.Δημιουργούμε ένα νέο instance του δικτυού που αξιοποιεί την gpu\n",
        "device = torch.device(\"cuda:0\" if torch.cuda.is_available() else \"cpu\")\n",
        "model = model.to(device)\n"
      ]
    },
    {
      "cell_type": "code",
      "execution_count": 8,
      "metadata": {
        "id": "Om47uwyCacdz"
      },
      "outputs": [],
      "source": [
        "learning_rate = 0.005\n",
        "optimizer = optim.SGD(model.parameters(), lr=learning_rate, momentum=0.9)\n",
        "#Μειώνουμε το learning_rate κατα 0.5 καθε 3 εποχες\n",
        "scheduler1 = lr_scheduler.StepLR(optimizer, step_size=3, gamma=0.5)\n",
        "loss_criterion = nn.CrossEntropyLoss()\n",
        "NUM_EPOCHS = 9\n",
        "#Το batch_size εχει δηλωθει πιο πάνω\n"
      ]
    },
    {
      "cell_type": "code",
      "execution_count": 9,
      "metadata": {
        "id": "V-hIEu_xkXAh"
      },
      "outputs": [],
      "source": [
        "\n",
        "\n",
        "#Training loop\n",
        "def train_loop(dataloader_train,dataloader_val,dataloader_test,loss_fn,model,optimizer,scheduler):\n",
        "  since = time.time()\n",
        "  best_model_wts = copy.deepcopy(model.state_dict())\n",
        "  best_acc = 0.0\n",
        "  print(\"Training for \",NUM_EPOCHS,\" Epochs\")\n",
        "  for epoch in range(NUM_EPOCHS):\n",
        "      \n",
        "      total_loss = 0.0\n",
        "      model.train()\n",
        "      for inputs, targets in tqdm(dataloader_train):\n",
        "          inputs = inputs.to(device)\n",
        "          targets = targets.to(device)\n",
        "          \n",
        "          \n",
        "          optimizer.zero_grad()\n",
        "          outputs = model(inputs)\n",
        "            \n",
        "          targets = targets.squeeze().long()\n",
        "          loss = loss_fn(outputs, targets)\n",
        "          \n",
        "          loss.backward()\n",
        "          optimizer.step()\n",
        "          total_loss += loss.item()\n",
        "      scheduler.step()\n",
        "      print(\"*************************\")\n",
        "      print(\"Epoch:\",epoch+1,\"Training Loss:\",total_loss/BATCH_SIZE)\n",
        "      train_acc = test_loop(dataloader_train,model)\n",
        "      print(\"Testing training dataset.Accuracy score:\",train_acc)\n",
        "      val_acc = test_loop(dataloader_val,model)\n",
        "      print(\"Testing validation dataset.Accuracy score:\",val_acc)\n",
        "      #Ελέγχω το validation accuracy score και το κρατάω αν είναι το καλύτερο μέχρι τώρα\n",
        "      if val_acc > best_acc:\n",
        "              best_acc = val_acc\n",
        "              best_model_wts = copy.deepcopy(model.state_dict())    \n",
        "\n",
        "      \n",
        "  test_acc = test_loop(dataloader_test,model)\n",
        "  print(\"Final test in test dataset.Accuracy score:\",test_acc)\n",
        "  test_acc = test_loop(dataloader_test,model)\n",
        "  time_elapsed = time.time() - since\n",
        "  print(\"Training time:\",time_elapsed,\" seconds\")\n",
        "  #Επιστρέφω το μοντέλο με το καλύτερο validation accyracy κατα το training\n",
        "  model.load_state_dict(best_model_wts)\n",
        "  return model\n",
        "  \n",
        "  \n",
        "  \n",
        "\n",
        "\n",
        "#Test loop\n",
        "def test_loop(dataloader,model):\n",
        "  \n",
        "  y_true = torch.tensor([])\n",
        "  predictions = torch.tensor([])\n",
        "  y_true = y_true.to(device)\n",
        "  predictions = predictions.to(device)\n",
        "  with torch.no_grad():\n",
        "          for inputs, targets in dataloader:\n",
        "\n",
        "              inputs = inputs.to(device)\n",
        "              targets = targets.to(device)\n",
        "\n",
        "              outputs = model(inputs)\n",
        "\n",
        "\n",
        "              _,pred = torch.max(outputs, 1)\n",
        "\n",
        "              y_true = torch.cat((y_true, targets))\n",
        "              predictions = torch.cat((predictions, pred))\n",
        "\n",
        "          y_true = y_true.cpu()\n",
        "          predictions = predictions.cpu()\n",
        "          y_true = y_true.numpy()\n",
        "          predictions = predictions.detach().numpy()\n",
        "          #Αν είχαμε πολλές άνισες κλάσεις το f1_score θα ηταν καλύτερη μετρική\n",
        "          accuracy = accuracy_score(y_true,predictions)\n",
        "          #Επιστρέφω το accuracy\n",
        "          return accuracy\n",
        "              "
      ]
    },
    {
      "cell_type": "code",
      "execution_count": 10,
      "metadata": {
        "colab": {
          "base_uri": "https://localhost:8080/"
        },
        "id": "XHGrILZ4aZWU",
        "outputId": "1c59df27-8568-4809-f148-e885aeb096c4"
      },
      "outputs": [
        {
          "output_type": "stream",
          "name": "stdout",
          "text": [
            "Training for  9  Epochs\n"
          ]
        },
        {
          "output_type": "stream",
          "name": "stderr",
          "text": [
            "100%|██████████| 704/704 [00:32<00:00, 21.79it/s]\n"
          ]
        },
        {
          "output_type": "stream",
          "name": "stdout",
          "text": [
            "*************************\n",
            "Epoch: 1 Training Loss: 3.036619155551307\n",
            "Testing training dataset.Accuracy score: 0.8825170007555891\n",
            "Testing validation dataset.Accuracy score: 0.8822471011595362\n"
          ]
        },
        {
          "output_type": "stream",
          "name": "stderr",
          "text": [
            "100%|██████████| 704/704 [00:31<00:00, 22.02it/s]\n"
          ]
        },
        {
          "output_type": "stream",
          "name": "stdout",
          "text": [
            "*************************\n",
            "Epoch: 2 Training Loss: 1.6273170209606178\n",
            "Testing training dataset.Accuracy score: 0.9124516645184231\n",
            "Testing validation dataset.Accuracy score: 0.9156337465013994\n"
          ]
        },
        {
          "output_type": "stream",
          "name": "stderr",
          "text": [
            "100%|██████████| 704/704 [00:31<00:00, 22.16it/s]\n"
          ]
        },
        {
          "output_type": "stream",
          "name": "stdout",
          "text": [
            "*************************\n",
            "Epoch: 3 Training Loss: 1.2235854836762883\n",
            "Testing training dataset.Accuracy score: 0.9362304991332948\n",
            "Testing validation dataset.Accuracy score: 0.9372251099560176\n"
          ]
        },
        {
          "output_type": "stream",
          "name": "stderr",
          "text": [
            "100%|██████████| 704/704 [00:31<00:00, 22.40it/s]\n"
          ]
        },
        {
          "output_type": "stream",
          "name": "stdout",
          "text": [
            "*************************\n",
            "Epoch: 4 Training Loss: 0.8190405198256485\n",
            "Testing training dataset.Accuracy score: 0.9458309258189252\n",
            "Testing validation dataset.Accuracy score: 0.9436225509796081\n"
          ]
        },
        {
          "output_type": "stream",
          "name": "stderr",
          "text": [
            "100%|██████████| 704/704 [00:30<00:00, 23.02it/s]\n"
          ]
        },
        {
          "output_type": "stream",
          "name": "stdout",
          "text": [
            "*************************\n",
            "Epoch: 5 Training Loss: 0.7366924078960437\n",
            "Testing training dataset.Accuracy score: 0.9564091737410552\n",
            "Testing validation dataset.Accuracy score: 0.9548180727708916\n"
          ]
        },
        {
          "output_type": "stream",
          "name": "stderr",
          "text": [
            "100%|██████████| 704/704 [00:30<00:00, 22.95it/s]\n"
          ]
        },
        {
          "output_type": "stream",
          "name": "stdout",
          "text": [
            "*************************\n",
            "Epoch: 6 Training Loss: 0.641253905108897\n",
            "Testing training dataset.Accuracy score: 0.959375972265434\n",
            "Testing validation dataset.Accuracy score: 0.9555177928828469\n"
          ]
        },
        {
          "output_type": "stream",
          "name": "stderr",
          "text": [
            "100%|██████████| 704/704 [00:30<00:00, 22.89it/s]\n"
          ]
        },
        {
          "output_type": "stream",
          "name": "stdout",
          "text": [
            "*************************\n",
            "Epoch: 7 Training Loss: 0.5088595609558979\n",
            "Testing training dataset.Accuracy score: 0.9686874972220988\n",
            "Testing validation dataset.Accuracy score: 0.9638144742103159\n"
          ]
        },
        {
          "output_type": "stream",
          "name": "stderr",
          "text": [
            "100%|██████████| 704/704 [00:31<00:00, 22.56it/s]\n"
          ]
        },
        {
          "output_type": "stream",
          "name": "stdout",
          "text": [
            "*************************\n",
            "Epoch: 8 Training Loss: 0.4713970766897546\n",
            "Testing training dataset.Accuracy score: 0.9705764700653362\n",
            "Testing validation dataset.Accuracy score: 0.9647141143542582\n"
          ]
        },
        {
          "output_type": "stream",
          "name": "stderr",
          "text": [
            "100%|██████████| 704/704 [00:30<00:00, 23.01it/s]\n"
          ]
        },
        {
          "output_type": "stream",
          "name": "stdout",
          "text": [
            "*************************\n",
            "Epoch: 9 Training Loss: 0.444179584585072\n",
            "Testing training dataset.Accuracy score: 0.9739321747633228\n",
            "Testing validation dataset.Accuracy score: 0.9676129548180727\n",
            "Final test in test dataset.Accuracy score: 0.8679665738161559\n",
            "Training time: 470.7262156009674  seconds\n"
          ]
        }
      ],
      "source": [
        "best_model = train_loop(path_train_loader,path_val_loader,path_test_loader,loss_criterion,model,optimizer,scheduler1)\n"
      ]
    },
    {
      "cell_type": "markdown",
      "metadata": {
        "id": "d7UVHP-YpDzD"
      },
      "source": [
        "**Το μοντέλο βελτιώνεται αλλά φαίνεται να κάνει overfit αφού παίρνουμε καλύτερα score για το training set αποτι για το test set**"
      ]
    },
    {
      "cell_type": "markdown",
      "metadata": {
        "id": "2jJsoDQYayZv"
      },
      "source": [
        "## Εισαγωγή του Blood Cell Microscope dataset "
      ]
    },
    {
      "cell_type": "code",
      "execution_count": 11,
      "metadata": {
        "colab": {
          "base_uri": "https://localhost:8080/"
        },
        "id": "09DIcZy9HOE1",
        "outputId": "98fd2cb7-931f-4cb9-d24b-dcc4df27f5c5"
      },
      "outputs": [
        {
          "output_type": "stream",
          "name": "stdout",
          "text": [
            "multi-class\n",
            "3 8\n"
          ]
        }
      ],
      "source": [
        "data_flag = 'bloodmnist'\n",
        "download = True\n",
        "\n",
        "info = INFO[data_flag]\n",
        "task = info['task']\n",
        "print (task)\n",
        "blood_channels = info['n_channels'] # αν τα κανάλια στα inputs είναι διαφορετικά, το transfer learning δεν έχει νόημα γιατί τα δεδομένα δε θα έχουν καμία ομοιότητα\n",
        "blood_classes = len(info['label'])\n",
        "\n",
        "Blood_Dataclass = getattr(medmnist, info['python_class'])\n",
        "print(blood_channels,blood_classes)"
      ]
    },
    {
      "cell_type": "code",
      "execution_count": 12,
      "metadata": {
        "colab": {
          "base_uri": "https://localhost:8080/",
          "height": 268,
          "referenced_widgets": [
            "f3514bd4724149cd8c4a3d4012c106e9",
            "6ecc128761334ba4acae08afd92e6b2a",
            "c165247c158d4bfcb376cff14114f736",
            "dd635e0bcd224ac383a4a2565bd6a20b",
            "818a2444b2bd4e73a698e85ddf98c1ef",
            "8e0b3fb7ada44209b02d0e30c281c6b0",
            "177e79140509419595d789f630afa6fb",
            "ae1425e6a4f0458091601ae5b1b07d7c",
            "f753640f06f24770a6b4c206b96eab30",
            "1d2ef5d2812d4db3abc2412b13d811b5",
            "8537ee233a57460ebc8decabe755bc6b"
          ]
        },
        "id": "AuWS0q16Tt6G",
        "outputId": "cc3209a0-64bf-427b-8300-2c13488ee9e9"
      },
      "outputs": [
        {
          "output_type": "stream",
          "name": "stdout",
          "text": [
            "Downloading https://zenodo.org/record/6496656/files/bloodmnist.npz?download=1 to /root/.medmnist/bloodmnist.npz\n"
          ]
        },
        {
          "output_type": "display_data",
          "data": {
            "text/plain": [
              "  0%|          | 0/35461855 [00:00<?, ?it/s]"
            ],
            "application/vnd.jupyter.widget-view+json": {
              "version_major": 2,
              "version_minor": 0,
              "model_id": "f3514bd4724149cd8c4a3d4012c106e9"
            }
          },
          "metadata": {}
        },
        {
          "output_type": "stream",
          "name": "stdout",
          "text": [
            "Using downloaded and verified file: /root/.medmnist/bloodmnist.npz\n",
            "Using downloaded and verified file: /root/.medmnist/bloodmnist.npz\n",
            "{'python_class': 'BloodMNIST', 'description': 'The BloodMNIST is based on a dataset of individual normal cells, captured from individuals without infection, hematologic or oncologic disease and free of any pharmacologic treatment at the moment of blood collection. It contains a total of 17,092 images and is organized into 8 classes. We split the source dataset with a ratio of 7:1:2 into training, validation and test set. The source images with resolution 3×360×363 pixels are center-cropped into 3×200×200, and then resized into 3×28×28.', 'url': 'https://zenodo.org/record/6496656/files/bloodmnist.npz?download=1', 'MD5': '7053d0359d879ad8a5505303e11de1dc', 'task': 'multi-class', 'label': {'0': 'basophil', '1': 'eosinophil', '2': 'erythroblast', '3': 'immature granulocytes(myelocytes, metamyelocytes and promyelocytes)', '4': 'lymphocyte', '5': 'monocyte', '6': 'neutrophil', '7': 'platelet'}, 'n_channels': 3, 'n_samples': {'train': 11959, 'val': 1712, 'test': 3421}, 'license': 'CC BY 4.0'}\n",
            "Δείγμα εικόνων του Blood Cell Microscope dataset:\n"
          ]
        },
        {
          "output_type": "execute_result",
          "data": {
            "text/plain": [
              "<PIL.Image.Image image mode=RGB size=112x112 at 0x7F6F330F2450>"
            ],
            "image/png": "[encoded data removed]"
          },
          "metadata": {},
          "execution_count": 12
        }
      ],
      "source": [
        "# load the data\n",
        "blood_train_dataset = Blood_Dataclass(split='train', transform=data_transforms['train'], download=download)\n",
        "blood_val_dataset = Blood_Dataclass(split='val', transform=data_transforms['test'], download=download)\n",
        "blood_test_dataset = Blood_Dataclass(split='test', transform=data_transforms['test'], download=download)\n",
        "print(blood_test_dataset.info)\n",
        "\n",
        "# encapsulate data into dataloader form\n",
        "blood_train_loader = data.DataLoader(dataset=blood_train_dataset, batch_size=BATCH_SIZE, shuffle=True)\n",
        "blood_val_loader = data.DataLoader(dataset=blood_val_dataset, batch_size=2*BATCH_SIZE, shuffle=False)\n",
        "blood_test_loader = data.DataLoader(dataset=blood_test_dataset, batch_size=2*BATCH_SIZE, shuffle=False)\n",
        "\n",
        "print(\"Δείγμα εικόνων του Blood Cell Microscope dataset:\")\n",
        "blood_train_dataset.montage(length=4)"
      ]
    },
    {
      "cell_type": "code",
      "execution_count": 13,
      "metadata": {
        "colab": {
          "base_uri": "https://localhost:8080/"
        },
        "id": "ATwKXGCabDC4",
        "outputId": "a54cfd93-d5c8-49dd-feb9-399c723a66a9"
      },
      "outputs": [
        {
          "output_type": "stream",
          "name": "stdout",
          "text": [
            "Training for  9  Epochs\n"
          ]
        },
        {
          "output_type": "stream",
          "name": "stderr",
          "text": [
            "100%|██████████| 94/94 [00:04<00:00, 21.87it/s]\n"
          ]
        },
        {
          "output_type": "stream",
          "name": "stdout",
          "text": [
            "*************************\n",
            "Epoch: 1 Training Loss: 0.5951533468905836\n",
            "Testing training dataset.Accuracy score: 0.8324274604900075\n",
            "Testing validation dataset.Accuracy score: 0.8247663551401869\n"
          ]
        },
        {
          "output_type": "stream",
          "name": "stderr",
          "text": [
            "100%|██████████| 94/94 [00:04<00:00, 22.07it/s]\n"
          ]
        },
        {
          "output_type": "stream",
          "name": "stdout",
          "text": [
            "*************************\n",
            "Epoch: 2 Training Loss: 0.3394556746352464\n",
            "Testing training dataset.Accuracy score: 0.8554226942052011\n",
            "Testing validation dataset.Accuracy score: 0.8522196261682243\n"
          ]
        },
        {
          "output_type": "stream",
          "name": "stderr",
          "text": [
            "100%|██████████| 94/94 [00:04<00:00, 22.84it/s]\n"
          ]
        },
        {
          "output_type": "stream",
          "name": "stdout",
          "text": [
            "*************************\n",
            "Epoch: 3 Training Loss: 0.2978624487295747\n",
            "Testing training dataset.Accuracy score: 0.8663767873568025\n",
            "Testing validation dataset.Accuracy score: 0.8627336448598131\n"
          ]
        },
        {
          "output_type": "stream",
          "name": "stderr",
          "text": [
            "100%|██████████| 94/94 [00:04<00:00, 22.38it/s]\n"
          ]
        },
        {
          "output_type": "stream",
          "name": "stdout",
          "text": [
            "*************************\n",
            "Epoch: 4 Training Loss: 0.28114289906807244\n",
            "Testing training dataset.Accuracy score: 0.8739861192407392\n",
            "Testing validation dataset.Accuracy score: 0.8685747663551402\n"
          ]
        },
        {
          "output_type": "stream",
          "name": "stderr",
          "text": [
            "100%|██████████| 94/94 [00:04<00:00, 19.69it/s]\n"
          ]
        },
        {
          "output_type": "stream",
          "name": "stdout",
          "text": [
            "*************************\n",
            "Epoch: 5 Training Loss: 0.27279234398156404\n",
            "Testing training dataset.Accuracy score: 0.8733171669872063\n",
            "Testing validation dataset.Accuracy score: 0.8714953271028038\n"
          ]
        },
        {
          "output_type": "stream",
          "name": "stderr",
          "text": [
            "100%|██████████| 94/94 [00:04<00:00, 22.27it/s]\n"
          ]
        },
        {
          "output_type": "stream",
          "name": "stdout",
          "text": [
            "*************************\n",
            "Epoch: 6 Training Loss: 0.26820437400601804\n",
            "Testing training dataset.Accuracy score: 0.8788360230788528\n",
            "Testing validation dataset.Accuracy score: 0.8744158878504673\n"
          ]
        },
        {
          "output_type": "stream",
          "name": "stderr",
          "text": [
            "100%|██████████| 94/94 [00:04<00:00, 22.19it/s]\n"
          ]
        },
        {
          "output_type": "stream",
          "name": "stdout",
          "text": [
            "*************************\n",
            "Epoch: 7 Training Loss: 0.26178141008131206\n",
            "Testing training dataset.Accuracy score: 0.8798394514591521\n",
            "Testing validation dataset.Accuracy score: 0.8785046728971962\n"
          ]
        },
        {
          "output_type": "stream",
          "name": "stderr",
          "text": [
            "100%|██████████| 94/94 [00:04<00:00, 22.29it/s]\n"
          ]
        },
        {
          "output_type": "stream",
          "name": "stdout",
          "text": [
            "*************************\n",
            "Epoch: 8 Training Loss: 0.25746925023850054\n",
            "Testing training dataset.Accuracy score: 0.8802575466176101\n",
            "Testing validation dataset.Accuracy score: 0.8790887850467289\n"
          ]
        },
        {
          "output_type": "stream",
          "name": "stderr",
          "text": [
            "100%|██████████| 94/94 [00:04<00:00, 22.64it/s]\n"
          ]
        },
        {
          "output_type": "stream",
          "name": "stdout",
          "text": [
            "*************************\n",
            "Epoch: 9 Training Loss: 0.25665495940484107\n",
            "Testing training dataset.Accuracy score: 0.8846893552972657\n",
            "Testing validation dataset.Accuracy score: 0.8773364485981309\n",
            "Final test in test dataset.Accuracy score: 0.8722595732242034\n",
            "Training time: 65.03088116645813  seconds\n"
          ]
        }
      ],
      "source": [
        "#Κάνω ενα instance ίδιο με το trained μοντέλο για να μπορέσω να φορτώσω το state dictionary\n",
        "blood_model = Net(in_channels=blood_channels, num_classes=9)\n",
        "\n",
        "#Φορτώνoυμε τις παραμέτρους του trained μοντέλου\n",
        "blood_model.load_state_dict(best_model.state_dict())\n",
        "\n",
        "for param in blood_model.parameters():\n",
        "    #Παγώνουμε τα weights\n",
        "    blood_model.requires_grad = False\n",
        "\n",
        "\n",
        "#Αλλάζουμε τα outputs του μοντέλου ωστε να αντιστοιχεί στο καινούργιο dataset\n",
        "blood_model.fc = nn.Sequential(\n",
        "            \n",
        "            nn.Linear(576, 1024),\n",
        "            nn.Linear(1024, blood_classes))\n",
        "blood_model = blood_model.to(device)\n",
        "\n",
        "\n",
        "\n",
        "\n",
        "\n",
        "\n",
        "\n",
        "optimizer_blood = optim.SGD(blood_model.fc.parameters(), lr=learning_rate, momentum=0.9)\n",
        "scheduler_blood = lr_scheduler.StepLR(optimizer_blood, step_size=2, gamma=0.5)\n",
        "bl = train_loop(blood_train_loader,blood_val_loader,blood_test_loader,loss_criterion,blood_model,optimizer_blood,scheduler_blood)\n"
      ]
    },
    {
      "cell_type": "code",
      "execution_count": 14,
      "metadata": {
        "colab": {
          "base_uri": "https://localhost:8080/"
        },
        "id": "fFyyMg2--_2a",
        "outputId": "07844f14-a80e-40d3-f668-fa1ec5dc922a"
      },
      "outputs": [
        {
          "output_type": "stream",
          "name": "stdout",
          "text": [
            "Training for  9  Epochs\n"
          ]
        },
        {
          "output_type": "stream",
          "name": "stderr",
          "text": [
            "100%|██████████| 94/94 [00:04<00:00, 22.05it/s]\n"
          ]
        },
        {
          "output_type": "stream",
          "name": "stdout",
          "text": [
            "*************************\n",
            "Epoch: 1 Training Loss: 0.48119657451752573\n",
            "Testing training dataset.Accuracy score: 0.8781670708253199\n",
            "Testing validation dataset.Accuracy score: 0.8796728971962616\n"
          ]
        },
        {
          "output_type": "stream",
          "name": "stderr",
          "text": [
            "100%|██████████| 94/94 [00:04<00:00, 22.54it/s]\n"
          ]
        },
        {
          "output_type": "stream",
          "name": "stdout",
          "text": [
            "*************************\n",
            "Epoch: 2 Training Loss: 0.2352504446171224\n",
            "Testing training dataset.Accuracy score: 0.8860272598043315\n",
            "Testing validation dataset.Accuracy score: 0.8878504672897196\n"
          ]
        },
        {
          "output_type": "stream",
          "name": "stderr",
          "text": [
            "100%|██████████| 94/94 [00:04<00:00, 22.56it/s]\n"
          ]
        },
        {
          "output_type": "stream",
          "name": "stdout",
          "text": [
            "*************************\n",
            "Epoch: 3 Training Loss: 0.17458677774993703\n",
            "Testing training dataset.Accuracy score: 0.9361986788192993\n",
            "Testing validation dataset.Accuracy score: 0.9310747663551402\n"
          ]
        },
        {
          "output_type": "stream",
          "name": "stderr",
          "text": [
            "100%|██████████| 94/94 [00:04<00:00, 22.12it/s]\n"
          ]
        },
        {
          "output_type": "stream",
          "name": "stdout",
          "text": [
            "*************************\n",
            "Epoch: 4 Training Loss: 0.1437270813039504\n",
            "Testing training dataset.Accuracy score: 0.9438916297349277\n",
            "Testing validation dataset.Accuracy score: 0.9345794392523364\n"
          ]
        },
        {
          "output_type": "stream",
          "name": "stderr",
          "text": [
            "100%|██████████| 94/94 [00:04<00:00, 22.07it/s]\n"
          ]
        },
        {
          "output_type": "stream",
          "name": "stdout",
          "text": [
            "*************************\n",
            "Epoch: 5 Training Loss: 0.11394667901913635\n",
            "Testing training dataset.Accuracy score: 0.9531733422526967\n",
            "Testing validation dataset.Accuracy score: 0.9439252336448598\n"
          ]
        },
        {
          "output_type": "stream",
          "name": "stderr",
          "text": [
            "100%|██████████| 94/94 [00:04<00:00, 22.23it/s]\n"
          ]
        },
        {
          "output_type": "stream",
          "name": "stdout",
          "text": [
            "*************************\n",
            "Epoch: 6 Training Loss: 0.10294372180942446\n",
            "Testing training dataset.Accuracy score: 0.9595283886612593\n",
            "Testing validation dataset.Accuracy score: 0.9462616822429907\n"
          ]
        },
        {
          "output_type": "stream",
          "name": "stderr",
          "text": [
            "100%|██████████| 94/94 [00:04<00:00, 22.15it/s]\n"
          ]
        },
        {
          "output_type": "stream",
          "name": "stdout",
          "text": [
            "*************************\n",
            "Epoch: 7 Training Loss: 0.09397068328689784\n",
            "Testing training dataset.Accuracy score: 0.9624550547704658\n",
            "Testing validation dataset.Accuracy score: 0.947429906542056\n"
          ]
        },
        {
          "output_type": "stream",
          "name": "stderr",
          "text": [
            "100%|██████████| 94/94 [00:04<00:00, 22.57it/s]\n"
          ]
        },
        {
          "output_type": "stream",
          "name": "stdout",
          "text": [
            "*************************\n",
            "Epoch: 8 Training Loss: 0.0885889693745412\n",
            "Testing training dataset.Accuracy score: 0.9612007692950916\n",
            "Testing validation dataset.Accuracy score: 0.9462616822429907\n"
          ]
        },
        {
          "output_type": "stream",
          "name": "stderr",
          "text": [
            "100%|██████████| 94/94 [00:04<00:00, 22.75it/s]\n"
          ]
        },
        {
          "output_type": "stream",
          "name": "stdout",
          "text": [
            "*************************\n",
            "Epoch: 9 Training Loss: 0.0813493947207462\n",
            "Testing training dataset.Accuracy score: 0.9677230537670374\n",
            "Testing validation dataset.Accuracy score: 0.9544392523364486\n",
            "Final test in test dataset.Accuracy score: 0.9482607424729611\n",
            "Training time: 64.53404021263123  seconds\n"
          ]
        }
      ],
      "source": [
        "#Κανονικό μοντέλο\n",
        "blood_model_not_transfer = Net(in_channels=blood_channels, num_classes=blood_classes)\n",
        "\n",
        "blood_model_not_transfer = blood_model_not_transfer.to(device)\n",
        "\n",
        "\n",
        "optimizer_blood_not= optim.SGD(blood_model_not_transfer.parameters(), lr=learning_rate, momentum=0.9)\n",
        "scheduler_blood_not = lr_scheduler.StepLR(optimizer_blood_not, step_size=2, gamma=0.5)\n",
        "bl = train_loop(blood_train_loader,blood_val_loader,blood_test_loader,loss_criterion,blood_model_not_transfer,optimizer_blood_not,scheduler_blood_not)"
      ]
    },
    {
      "cell_type": "markdown",
      "source": [
        "**Τα μοντέλα φαίνεται να μαθαίνουν με το πέρασμα των εποχών.Το μοντέλο που εκπαιδεύτηκε με transfer learning έχει χαμηλότερα scores σε σχέση με το μοντέλο που εκπαιδεύτηκε χώρις transform learning.Παρόλα αυτά το μοντέλο που εκπαίδευτηκε με transfer learning ίσως είναι πιο ανθεκτικό απέναντι στο overfitting καθώς οι τιμές των scores του training και test set είναι πιο κόντα αποτι στο 2ο μοντέλο που φαίνεται να κάνει overfit **"
      ],
      "metadata": {
        "id": "cUE7oX2ZceUQ"
      }
    }
  ],
  "metadata": {
    "accelerator": "GPU",
    "colab": {
      "collapsed_sections": [],
      "name": "Exercise2.ipynb",
      "provenance": []
    },
    "interpreter": {
      "hash": "11ae008c1578fba08026cc5da490695d0a6728dd5544f01ecc8263390d9bef5d"
    },
    "kernelspec": {
      "display_name": "Python 3.9.7 ('base')",
      "language": "python",
      "name": "python3"
    },
    "language_info": {
      "codemirror_mode": {
        "name": "ipython",
        "version": 3
      },
      "file_extension": ".py",
      "mimetype": "text/x-python",
      "name": "python",
      "nbconvert_exporter": "python",
      "pygments_lexer": "ipython3",
      "version": "3.9.7"
    },
    "widgets": {
      "application/vnd.jupyter.widget-state+json": {
        "fa9f746b48a948bbb08d4486975dd87b": {
          "model_module": "@jupyter-widgets/controls",
          "model_name": "HBoxModel",
          "model_module_version": "1.5.0",
          "state": {
            "_dom_classes": [],
            "_model_module": "@jupyter-widgets/controls",
            "_model_module_version": "1.5.0",
            "_model_name": "HBoxModel",
            "_view_count": null,
            "_view_module": "@jupyter-widgets/controls",
            "_view_module_version": "1.5.0",
            "_view_name": "HBoxView",
            "box_style": "",
            "children": [
              "IPY_MODEL_73c5fb245e02470d817551a975346727",
              "IPY_MODEL_337352e659404fcd8bb037fcde2321e4",
              "IPY_MODEL_044e83c2516844208175349163f6dfae"
            ],
            "layout": "IPY_MODEL_9c2e1e4ea7074e56b8c9d2ab0c1f474b"
          }
        },
        "73c5fb245e02470d817551a975346727": {
          "model_module": "@jupyter-widgets/controls",
          "model_name": "HTMLModel",
          "model_module_version": "1.5.0",
          "state": {
            "_dom_classes": [],
            "_model_module": "@jupyter-widgets/controls",
            "_model_module_version": "1.5.0",
            "_model_name": "HTMLModel",
            "_view_count": null,
            "_view_module": "@jupyter-widgets/controls",
            "_view_module_version": "1.5.0",
            "_view_name": "HTMLView",
            "description": "",
            "description_tooltip": null,
            "layout": "IPY_MODEL_49821e2684284b18beb4ebb43450eb6b",
            "placeholder": "​",
            "style": "IPY_MODEL_10b35b711b284502890ff7597153d06a",
            "value": ""
          }
        },
        "337352e659404fcd8bb037fcde2321e4": {
          "model_module": "@jupyter-widgets/controls",
          "model_name": "FloatProgressModel",
          "model_module_version": "1.5.0",
          "state": {
            "_dom_classes": [],
            "_model_module": "@jupyter-widgets/controls",
            "_model_module_version": "1.5.0",
            "_model_name": "FloatProgressModel",
            "_view_count": null,
            "_view_module": "@jupyter-widgets/controls",
            "_view_module_version": "1.5.0",
            "_view_name": "ProgressView",
            "bar_style": "success",
            "description": "",
            "description_tooltip": null,
            "layout": "IPY_MODEL_03dfcf51a3454014b88d3ca18aa5c781",
            "max": 205615438,
            "min": 0,
            "orientation": "horizontal",
            "style": "IPY_MODEL_6e418aa42ca44d8d9fb2ecbeeeba9fa8",
            "value": 205615438
          }
        },
        "044e83c2516844208175349163f6dfae": {
          "model_module": "@jupyter-widgets/controls",
          "model_name": "HTMLModel",
          "model_module_version": "1.5.0",
          "state": {
            "_dom_classes": [],
            "_model_module": "@jupyter-widgets/controls",
            "_model_module_version": "1.5.0",
            "_model_name": "HTMLModel",
            "_view_count": null,
            "_view_module": "@jupyter-widgets/controls",
            "_view_module_version": "1.5.0",
            "_view_name": "HTMLView",
            "description": "",
            "description_tooltip": null,
            "layout": "IPY_MODEL_00ddf326fd0d444fb3fc6ead5d26c484",
            "placeholder": "​",
            "style": "IPY_MODEL_e66cf7843bc94231a9d36dd781f584a2",
            "value": " 205616128/? [00:02&lt;00:00, 118121900.22it/s]"
          }
        },
        "9c2e1e4ea7074e56b8c9d2ab0c1f474b": {
          "model_module": "@jupyter-widgets/base",
          "model_name": "LayoutModel",
          "model_module_version": "1.2.0",
          "state": {
            "_model_module": "@jupyter-widgets/base",
            "_model_module_version": "1.2.0",
            "_model_name": "LayoutModel",
            "_view_count": null,
            "_view_module": "@jupyter-widgets/base",
            "_view_module_version": "1.2.0",
            "_view_name": "LayoutView",
            "align_content": null,
            "align_items": null,
            "align_self": null,
            "border": null,
            "bottom": null,
            "display": null,
            "flex": null,
            "flex_flow": null,
            "grid_area": null,
            "grid_auto_columns": null,
            "grid_auto_flow": null,
            "grid_auto_rows": null,
            "grid_column": null,
            "grid_gap": null,
            "grid_row": null,
            "grid_template_areas": null,
            "grid_template_columns": null,
            "grid_template_rows": null,
            "height": null,
            "justify_content": null,
            "justify_items": null,
            "left": null,
            "margin": null,
            "max_height": null,
            "max_width": null,
            "min_height": null,
            "min_width": null,
            "object_fit": null,
            "object_position": null,
            "order": null,
            "overflow": null,
            "overflow_x": null,
            "overflow_y": null,
            "padding": null,
            "right": null,
            "top": null,
            "visibility": null,
            "width": null
          }
        },
        "49821e2684284b18beb4ebb43450eb6b": {
          "model_module": "@jupyter-widgets/base",
          "model_name": "LayoutModel",
          "model_module_version": "1.2.0",
          "state": {
            "_model_module": "@jupyter-widgets/base",
            "_model_module_version": "1.2.0",
            "_model_name": "LayoutModel",
            "_view_count": null,
            "_view_module": "@jupyter-widgets/base",
            "_view_module_version": "1.2.0",
            "_view_name": "LayoutView",
            "align_content": null,
            "align_items": null,
            "align_self": null,
            "border": null,
            "bottom": null,
            "display": null,
            "flex": null,
            "flex_flow": null,
            "grid_area": null,
            "grid_auto_columns": null,
            "grid_auto_flow": null,
            "grid_auto_rows": null,
            "grid_column": null,
            "grid_gap": null,
            "grid_row": null,
            "grid_template_areas": null,
            "grid_template_columns": null,
            "grid_template_rows": null,
            "height": null,
            "justify_content": null,
            "justify_items": null,
            "left": null,
            "margin": null,
            "max_height": null,
            "max_width": null,
            "min_height": null,
            "min_width": null,
            "object_fit": null,
            "object_position": null,
            "order": null,
            "overflow": null,
            "overflow_x": null,
            "overflow_y": null,
            "padding": null,
            "right": null,
            "top": null,
            "visibility": null,
            "width": null
          }
        },
        "10b35b711b284502890ff7597153d06a": {
          "model_module": "@jupyter-widgets/controls",
          "model_name": "DescriptionStyleModel",
          "model_module_version": "1.5.0",
          "state": {
            "_model_module": "@jupyter-widgets/controls",
            "_model_module_version": "1.5.0",
            "_model_name": "DescriptionStyleModel",
            "_view_count": null,
            "_view_module": "@jupyter-widgets/base",
            "_view_module_version": "1.2.0",
            "_view_name": "StyleView",
            "description_width": ""
          }
        },
        "03dfcf51a3454014b88d3ca18aa5c781": {
          "model_module": "@jupyter-widgets/base",
          "model_name": "LayoutModel",
          "model_module_version": "1.2.0",
          "state": {
            "_model_module": "@jupyter-widgets/base",
            "_model_module_version": "1.2.0",
            "_model_name": "LayoutModel",
            "_view_count": null,
            "_view_module": "@jupyter-widgets/base",
            "_view_module_version": "1.2.0",
            "_view_name": "LayoutView",
            "align_content": null,
            "align_items": null,
            "align_self": null,
            "border": null,
            "bottom": null,
            "display": null,
            "flex": null,
            "flex_flow": null,
            "grid_area": null,
            "grid_auto_columns": null,
            "grid_auto_flow": null,
            "grid_auto_rows": null,
            "grid_column": null,
            "grid_gap": null,
            "grid_row": null,
            "grid_template_areas": null,
            "grid_template_columns": null,
            "grid_template_rows": null,
            "height": null,
            "justify_content": null,
            "justify_items": null,
            "left": null,
            "margin": null,
            "max_height": null,
            "max_width": null,
            "min_height": null,
            "min_width": null,
            "object_fit": null,
            "object_position": null,
            "order": null,
            "overflow": null,
            "overflow_x": null,
            "overflow_y": null,
            "padding": null,
            "right": null,
            "top": null,
            "visibility": null,
            "width": null
          }
        },
        "6e418aa42ca44d8d9fb2ecbeeeba9fa8": {
          "model_module": "@jupyter-widgets/controls",
          "model_name": "ProgressStyleModel",
          "model_module_version": "1.5.0",
          "state": {
            "_model_module": "@jupyter-widgets/controls",
            "_model_module_version": "1.5.0",
            "_model_name": "ProgressStyleModel",
            "_view_count": null,
            "_view_module": "@jupyter-widgets/base",
            "_view_module_version": "1.2.0",
            "_view_name": "StyleView",
            "bar_color": null,
            "description_width": ""
          }
        },
        "00ddf326fd0d444fb3fc6ead5d26c484": {
          "model_module": "@jupyter-widgets/base",
          "model_name": "LayoutModel",
          "model_module_version": "1.2.0",
          "state": {
            "_model_module": "@jupyter-widgets/base",
            "_model_module_version": "1.2.0",
            "_model_name": "LayoutModel",
            "_view_count": null,
            "_view_module": "@jupyter-widgets/base",
            "_view_module_version": "1.2.0",
            "_view_name": "LayoutView",
            "align_content": null,
            "align_items": null,
            "align_self": null,
            "border": null,
            "bottom": null,
            "display": null,
            "flex": null,
            "flex_flow": null,
            "grid_area": null,
            "grid_auto_columns": null,
            "grid_auto_flow": null,
            "grid_auto_rows": null,
            "grid_column": null,
            "grid_gap": null,
            "grid_row": null,
            "grid_template_areas": null,
            "grid_template_columns": null,
            "grid_template_rows": null,
            "height": null,
            "justify_content": null,
            "justify_items": null,
            "left": null,
            "margin": null,
            "max_height": null,
            "max_width": null,
            "min_height": null,
            "min_width": null,
            "object_fit": null,
            "object_position": null,
            "order": null,
            "overflow": null,
            "overflow_x": null,
            "overflow_y": null,
            "padding": null,
            "right": null,
            "top": null,
            "visibility": null,
            "width": null
          }
        },
        "e66cf7843bc94231a9d36dd781f584a2": {
          "model_module": "@jupyter-widgets/controls",
          "model_name": "DescriptionStyleModel",
          "model_module_version": "1.5.0",
          "state": {
            "_model_module": "@jupyter-widgets/controls",
            "_model_module_version": "1.5.0",
            "_model_name": "DescriptionStyleModel",
            "_view_count": null,
            "_view_module": "@jupyter-widgets/base",
            "_view_module_version": "1.2.0",
            "_view_name": "StyleView",
            "description_width": ""
          }
        },
        "f3514bd4724149cd8c4a3d4012c106e9": {
          "model_module": "@jupyter-widgets/controls",
          "model_name": "HBoxModel",
          "model_module_version": "1.5.0",
          "state": {
            "_dom_classes": [],
            "_model_module": "@jupyter-widgets/controls",
            "_model_module_version": "1.5.0",
            "_model_name": "HBoxModel",
            "_view_count": null,
            "_view_module": "@jupyter-widgets/controls",
            "_view_module_version": "1.5.0",
            "_view_name": "HBoxView",
            "box_style": "",
            "children": [
              "IPY_MODEL_6ecc128761334ba4acae08afd92e6b2a",
              "IPY_MODEL_c165247c158d4bfcb376cff14114f736",
              "IPY_MODEL_dd635e0bcd224ac383a4a2565bd6a20b"
            ],
            "layout": "IPY_MODEL_818a2444b2bd4e73a698e85ddf98c1ef"
          }
        },
        "6ecc128761334ba4acae08afd92e6b2a": {
          "model_module": "@jupyter-widgets/controls",
          "model_name": "HTMLModel",
          "model_module_version": "1.5.0",
          "state": {
            "_dom_classes": [],
            "_model_module": "@jupyter-widgets/controls",
            "_model_module_version": "1.5.0",
            "_model_name": "HTMLModel",
            "_view_count": null,
            "_view_module": "@jupyter-widgets/controls",
            "_view_module_version": "1.5.0",
            "_view_name": "HTMLView",
            "description": "",
            "description_tooltip": null,
            "layout": "IPY_MODEL_8e0b3fb7ada44209b02d0e30c281c6b0",
            "placeholder": "​",
            "style": "IPY_MODEL_177e79140509419595d789f630afa6fb",
            "value": ""
          }
        },
        "c165247c158d4bfcb376cff14114f736": {
          "model_module": "@jupyter-widgets/controls",
          "model_name": "FloatProgressModel",
          "model_module_version": "1.5.0",
          "state": {
            "_dom_classes": [],
            "_model_module": "@jupyter-widgets/controls",
            "_model_module_version": "1.5.0",
            "_model_name": "FloatProgressModel",
            "_view_count": null,
            "_view_module": "@jupyter-widgets/controls",
            "_view_module_version": "1.5.0",
            "_view_name": "ProgressView",
            "bar_style": "success",
            "description": "",
            "description_tooltip": null,
            "layout": "IPY_MODEL_ae1425e6a4f0458091601ae5b1b07d7c",
            "max": 35461855,
            "min": 0,
            "orientation": "horizontal",
            "style": "IPY_MODEL_f753640f06f24770a6b4c206b96eab30",
            "value": 35461855
          }
        },
        "dd635e0bcd224ac383a4a2565bd6a20b": {
          "model_module": "@jupyter-widgets/controls",
          "model_name": "HTMLModel",
          "model_module_version": "1.5.0",
          "state": {
            "_dom_classes": [],
            "_model_module": "@jupyter-widgets/controls",
            "_model_module_version": "1.5.0",
            "_model_name": "HTMLModel",
            "_view_count": null,
            "_view_module": "@jupyter-widgets/controls",
            "_view_module_version": "1.5.0",
            "_view_name": "HTMLView",
            "description": "",
            "description_tooltip": null,
            "layout": "IPY_MODEL_1d2ef5d2812d4db3abc2412b13d811b5",
            "placeholder": "​",
            "style": "IPY_MODEL_8537ee233a57460ebc8decabe755bc6b",
            "value": " 35462144/? [00:00&lt;00:00, 95021243.70it/s]"
          }
        },
        "818a2444b2bd4e73a698e85ddf98c1ef": {
          "model_module": "@jupyter-widgets/base",
          "model_name": "LayoutModel",
          "model_module_version": "1.2.0",
          "state": {
            "_model_module": "@jupyter-widgets/base",
            "_model_module_version": "1.2.0",
            "_model_name": "LayoutModel",
            "_view_count": null,
            "_view_module": "@jupyter-widgets/base",
            "_view_module_version": "1.2.0",
            "_view_name": "LayoutView",
            "align_content": null,
            "align_items": null,
            "align_self": null,
            "border": null,
            "bottom": null,
            "display": null,
            "flex": null,
            "flex_flow": null,
            "grid_area": null,
            "grid_auto_columns": null,
            "grid_auto_flow": null,
            "grid_auto_rows": null,
            "grid_column": null,
            "grid_gap": null,
            "grid_row": null,
            "grid_template_areas": null,
            "grid_template_columns": null,
            "grid_template_rows": null,
            "height": null,
            "justify_content": null,
            "justify_items": null,
            "left": null,
            "margin": null,
            "max_height": null,
            "max_width": null,
            "min_height": null,
            "min_width": null,
            "object_fit": null,
            "object_position": null,
            "order": null,
            "overflow": null,
            "overflow_x": null,
            "overflow_y": null,
            "padding": null,
            "right": null,
            "top": null,
            "visibility": null,
            "width": null
          }
        },
        "8e0b3fb7ada44209b02d0e30c281c6b0": {
          "model_module": "@jupyter-widgets/base",
          "model_name": "LayoutModel",
          "model_module_version": "1.2.0",
          "state": {
            "_model_module": "@jupyter-widgets/base",
            "_model_module_version": "1.2.0",
            "_model_name": "LayoutModel",
            "_view_count": null,
            "_view_module": "@jupyter-widgets/base",
            "_view_module_version": "1.2.0",
            "_view_name": "LayoutView",
            "align_content": null,
            "align_items": null,
            "align_self": null,
            "border": null,
            "bottom": null,
            "display": null,
            "flex": null,
            "flex_flow": null,
            "grid_area": null,
            "grid_auto_columns": null,
            "grid_auto_flow": null,
            "grid_auto_rows": null,
            "grid_column": null,
            "grid_gap": null,
            "grid_row": null,
            "grid_template_areas": null,
            "grid_template_columns": null,
            "grid_template_rows": null,
            "height": null,
            "justify_content": null,
            "justify_items": null,
            "left": null,
            "margin": null,
            "max_height": null,
            "max_width": null,
            "min_height": null,
            "min_width": null,
            "object_fit": null,
            "object_position": null,
            "order": null,
            "overflow": null,
            "overflow_x": null,
            "overflow_y": null,
            "padding": null,
            "right": null,
            "top": null,
            "visibility": null,
            "width": null
          }
        },
        "177e79140509419595d789f630afa6fb": {
          "model_module": "@jupyter-widgets/controls",
          "model_name": "DescriptionStyleModel",
          "model_module_version": "1.5.0",
          "state": {
            "_model_module": "@jupyter-widgets/controls",
            "_model_module_version": "1.5.0",
            "_model_name": "DescriptionStyleModel",
            "_view_count": null,
            "_view_module": "@jupyter-widgets/base",
            "_view_module_version": "1.2.0",
            "_view_name": "StyleView",
            "description_width": ""
          }
        },
        "ae1425e6a4f0458091601ae5b1b07d7c": {
          "model_module": "@jupyter-widgets/base",
          "model_name": "LayoutModel",
          "model_module_version": "1.2.0",
          "state": {
            "_model_module": "@jupyter-widgets/base",
            "_model_module_version": "1.2.0",
            "_model_name": "LayoutModel",
            "_view_count": null,
            "_view_module": "@jupyter-widgets/base",
            "_view_module_version": "1.2.0",
            "_view_name": "LayoutView",
            "align_content": null,
            "align_items": null,
            "align_self": null,
            "border": null,
            "bottom": null,
            "display": null,
            "flex": null,
            "flex_flow": null,
            "grid_area": null,
            "grid_auto_columns": null,
            "grid_auto_flow": null,
            "grid_auto_rows": null,
            "grid_column": null,
            "grid_gap": null,
            "grid_row": null,
            "grid_template_areas": null,
            "grid_template_columns": null,
            "grid_template_rows": null,
            "height": null,
            "justify_content": null,
            "justify_items": null,
            "left": null,
            "margin": null,
            "max_height": null,
            "max_width": null,
            "min_height": null,
            "min_width": null,
            "object_fit": null,
            "object_position": null,
            "order": null,
            "overflow": null,
            "overflow_x": null,
            "overflow_y": null,
            "padding": null,
            "right": null,
            "top": null,
            "visibility": null,
            "width": null
          }
        },
        "f753640f06f24770a6b4c206b96eab30": {
          "model_module": "@jupyter-widgets/controls",
          "model_name": "ProgressStyleModel",
          "model_module_version": "1.5.0",
          "state": {
            "_model_module": "@jupyter-widgets/controls",
            "_model_module_version": "1.5.0",
            "_model_name": "ProgressStyleModel",
            "_view_count": null,
            "_view_module": "@jupyter-widgets/base",
            "_view_module_version": "1.2.0",
            "_view_name": "StyleView",
            "bar_color": null,
            "description_width": ""
          }
        },
        "1d2ef5d2812d4db3abc2412b13d811b5": {
          "model_module": "@jupyter-widgets/base",
          "model_name": "LayoutModel",
          "model_module_version": "1.2.0",
          "state": {
            "_model_module": "@jupyter-widgets/base",
            "_model_module_version": "1.2.0",
            "_model_name": "LayoutModel",
            "_view_count": null,
            "_view_module": "@jupyter-widgets/base",
            "_view_module_version": "1.2.0",
            "_view_name": "LayoutView",
            "align_content": null,
            "align_items": null,
            "align_self": null,
            "border": null,
            "bottom": null,
            "display": null,
            "flex": null,
            "flex_flow": null,
            "grid_area": null,
            "grid_auto_columns": null,
            "grid_auto_flow": null,
            "grid_auto_rows": null,
            "grid_column": null,
            "grid_gap": null,
            "grid_row": null,
            "grid_template_areas": null,
            "grid_template_columns": null,
            "grid_template_rows": null,
            "height": null,
            "justify_content": null,
            "justify_items": null,
            "left": null,
            "margin": null,
            "max_height": null,
            "max_width": null,
            "min_height": null,
            "min_width": null,
            "object_fit": null,
            "object_position": null,
            "order": null,
            "overflow": null,
            "overflow_x": null,
            "overflow_y": null,
            "padding": null,
            "right": null,
            "top": null,
            "visibility": null,
            "width": null
          }
        },
        "8537ee233a57460ebc8decabe755bc6b": {
          "model_module": "@jupyter-widgets/controls",
          "model_name": "DescriptionStyleModel",
          "model_module_version": "1.5.0",
          "state": {
            "_model_module": "@jupyter-widgets/controls",
            "_model_module_version": "1.5.0",
            "_model_name": "DescriptionStyleModel",
            "_view_count": null,
            "_view_module": "@jupyter-widgets/base",
            "_view_module_version": "1.2.0",
            "_view_name": "StyleView",
            "description_width": ""
          }
        }
      }
    }
  },
  "nbformat": 4,
  "nbformat_minor": 0
}